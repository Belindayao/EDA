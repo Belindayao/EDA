{
 "cells": [
  {
   "cell_type": "code",
   "execution_count": 1,
   "metadata": {},
   "outputs": [],
   "source": [
    "import pandas as pd\n",
    "import numpy as np"
   ]
  },
  {
   "cell_type": "code",
   "execution_count": 4,
   "metadata": {
    "scrolled": true
   },
   "outputs": [
    {
     "name": "stderr",
     "output_type": "stream",
     "text": [
      "/opt/anaconda3/lib/python3.7/site-packages/IPython/core/interactiveshell.py:3072: DtypeWarning: Columns (21) have mixed types.Specify dtype option on import or set low_memory=False.\n",
      "  interactivity=interactivity, compiler=compiler, result=result)\n"
     ]
    }
   ],
   "source": [
    "review_data=pd.read_csv(\"data for kriti/h_street.csv\")"
   ]
  },
  {
   "cell_type": "code",
   "execution_count": 5,
   "metadata": {},
   "outputs": [
    {
     "data": {
      "text/html": [
       "<div>\n",
       "<style scoped>\n",
       "    .dataframe tbody tr th:only-of-type {\n",
       "        vertical-align: middle;\n",
       "    }\n",
       "\n",
       "    .dataframe tbody tr th {\n",
       "        vertical-align: top;\n",
       "    }\n",
       "\n",
       "    .dataframe thead th {\n",
       "        text-align: right;\n",
       "    }\n",
       "</style>\n",
       "<table border=\"1\" class=\"dataframe\">\n",
       "  <thead>\n",
       "    <tr style=\"text-align: right;\">\n",
       "      <th></th>\n",
       "      <th>Unnamed: 0</th>\n",
       "      <th>user_href</th>\n",
       "      <th>text2</th>\n",
       "      <th>reviewer</th>\n",
       "      <th>ratings</th>\n",
       "      <th>review_date</th>\n",
       "      <th>text</th>\n",
       "      <th>loc_searched</th>\n",
       "      <th>lat</th>\n",
       "      <th>long</th>\n",
       "      <th>...</th>\n",
       "      <th>loc_type</th>\n",
       "      <th>price</th>\n",
       "      <th>avg_review</th>\n",
       "      <th>orig_text</th>\n",
       "      <th>fasttext_all</th>\n",
       "      <th>fasttext_results2</th>\n",
       "      <th>topic</th>\n",
       "      <th>class_simple_pred_acc</th>\n",
       "      <th>sentiment</th>\n",
       "      <th>sent_score_pred_acc</th>\n",
       "    </tr>\n",
       "  </thead>\n",
       "  <tbody>\n",
       "    <tr>\n",
       "      <th>0</th>\n",
       "      <td>0</td>\n",
       "      <td>https://www.google.com/maps/contrib/1150405649...</td>\n",
       "      <td>the staff is scarce</td>\n",
       "      <td>Caye Shoals</td>\n",
       "      <td>4</td>\n",
       "      <td>2019-05-26</td>\n",
       "      <td>staff scarce</td>\n",
       "      <td>12Twelve, 1212 H St NE, Washington, DC 20002</td>\n",
       "      <td>38.900389</td>\n",
       "      <td>-76.989729</td>\n",
       "      <td>...</td>\n",
       "      <td>Bar &amp; grill</td>\n",
       "      <td>NaN</td>\n",
       "      <td>3.9</td>\n",
       "      <td>Hit or miss, but worth a try. On a good day, t...</td>\n",
       "      <td>['__label__staff', 0.8872146010398865, '', '']</td>\n",
       "      <td>['', '']</td>\n",
       "      <td>staff</td>\n",
       "      <td>0.8872146010398865</td>\n",
       "      <td>NaN</td>\n",
       "      <td>NaN</td>\n",
       "    </tr>\n",
       "    <tr>\n",
       "      <th>1</th>\n",
       "      <td>1</td>\n",
       "      <td>https://www.google.com/maps/contrib/1112643712...</td>\n",
       "      <td>great service</td>\n",
       "      <td>Warren Ragland</td>\n",
       "      <td>5</td>\n",
       "      <td>2019-07-25</td>\n",
       "      <td>great service</td>\n",
       "      <td>12Twelve, 1212 H St NE, Washington, DC 20002</td>\n",
       "      <td>38.900389</td>\n",
       "      <td>-76.989729</td>\n",
       "      <td>...</td>\n",
       "      <td>Bar &amp; grill</td>\n",
       "      <td>NaN</td>\n",
       "      <td>3.9</td>\n",
       "      <td>Great people. Great service. Hookah and drinks...</td>\n",
       "      <td>['__label__staff', 0.9362950325012207, '', '']</td>\n",
       "      <td>['', '']</td>\n",
       "      <td>staff</td>\n",
       "      <td>0.9362950325012207</td>\n",
       "      <td>1.0</td>\n",
       "      <td>0.999993</td>\n",
       "    </tr>\n",
       "    <tr>\n",
       "      <th>2</th>\n",
       "      <td>2</td>\n",
       "      <td>https://www.google.com/maps/contrib/1112643712...</td>\n",
       "      <td>food looked good</td>\n",
       "      <td>Warren Ragland</td>\n",
       "      <td>5</td>\n",
       "      <td>2019-07-25</td>\n",
       "      <td>food looked good</td>\n",
       "      <td>12Twelve, 1212 H St NE, Washington, DC 20002</td>\n",
       "      <td>38.900389</td>\n",
       "      <td>-76.989729</td>\n",
       "      <td>...</td>\n",
       "      <td>Bar &amp; grill</td>\n",
       "      <td>NaN</td>\n",
       "      <td>3.9</td>\n",
       "      <td>Great people. Great service. Hookah and drinks...</td>\n",
       "      <td>['__label__food', 0.9697954058647156, '', '']</td>\n",
       "      <td>['', '']</td>\n",
       "      <td>food</td>\n",
       "      <td>0.9697954058647156</td>\n",
       "      <td>1.0</td>\n",
       "      <td>0.943369</td>\n",
       "    </tr>\n",
       "  </tbody>\n",
       "</table>\n",
       "<p>3 rows × 24 columns</p>\n",
       "</div>"
      ],
      "text/plain": [
       "   Unnamed: 0                                          user_href  \\\n",
       "0           0  https://www.google.com/maps/contrib/1150405649...   \n",
       "1           1  https://www.google.com/maps/contrib/1112643712...   \n",
       "2           2  https://www.google.com/maps/contrib/1112643712...   \n",
       "\n",
       "                  text2        reviewer  ratings review_date  \\\n",
       "0   the staff is scarce     Caye Shoals        4  2019-05-26   \n",
       "1         great service  Warren Ragland        5  2019-07-25   \n",
       "2     food looked good   Warren Ragland        5  2019-07-25   \n",
       "\n",
       "               text                                   loc_searched        lat  \\\n",
       "0      staff scarce  12Twelve, 1212 H St NE, Washington, DC 20002   38.900389   \n",
       "1     great service  12Twelve, 1212 H St NE, Washington, DC 20002   38.900389   \n",
       "2  food looked good  12Twelve, 1212 H St NE, Washington, DC 20002   38.900389   \n",
       "\n",
       "        long  ...     loc_type price avg_review  \\\n",
       "0 -76.989729  ...  Bar & grill   NaN        3.9   \n",
       "1 -76.989729  ...  Bar & grill   NaN        3.9   \n",
       "2 -76.989729  ...  Bar & grill   NaN        3.9   \n",
       "\n",
       "                                           orig_text  \\\n",
       "0  Hit or miss, but worth a try. On a good day, t...   \n",
       "1  Great people. Great service. Hookah and drinks...   \n",
       "2  Great people. Great service. Hookah and drinks...   \n",
       "\n",
       "                                     fasttext_all  fasttext_results2  topic  \\\n",
       "0  ['__label__staff', 0.8872146010398865, '', '']           ['', '']  staff   \n",
       "1  ['__label__staff', 0.9362950325012207, '', '']           ['', '']  staff   \n",
       "2   ['__label__food', 0.9697954058647156, '', '']           ['', '']   food   \n",
       "\n",
       "  class_simple_pred_acc sentiment sent_score_pred_acc  \n",
       "0    0.8872146010398865       NaN                 NaN  \n",
       "1    0.9362950325012207       1.0            0.999993  \n",
       "2    0.9697954058647156       1.0            0.943369  \n",
       "\n",
       "[3 rows x 24 columns]"
      ]
     },
     "execution_count": 5,
     "metadata": {},
     "output_type": "execute_result"
    }
   ],
   "source": [
    "review_data.head(3)"
   ]
  },
  {
   "cell_type": "code",
   "execution_count": 6,
   "metadata": {},
   "outputs": [],
   "source": [
    "review_data.set_index('Unnamed: 0',inplace=True)"
   ]
  },
  {
   "cell_type": "code",
   "execution_count": 7,
   "metadata": {},
   "outputs": [
    {
     "name": "stderr",
     "output_type": "stream",
     "text": [
      "/opt/anaconda3/lib/python3.7/site-packages/ipykernel_launcher.py:2: FutureWarning: Passing a negative integer is deprecated in version 1.0 and will not be supported in future version. Instead, use None to not limit the column width.\n",
      "  \n"
     ]
    },
    {
     "data": {
      "text/html": [
       "<div>\n",
       "<style scoped>\n",
       "    .dataframe tbody tr th:only-of-type {\n",
       "        vertical-align: middle;\n",
       "    }\n",
       "\n",
       "    .dataframe tbody tr th {\n",
       "        vertical-align: top;\n",
       "    }\n",
       "\n",
       "    .dataframe thead th {\n",
       "        text-align: right;\n",
       "    }\n",
       "</style>\n",
       "<table border=\"1\" class=\"dataframe\">\n",
       "  <thead>\n",
       "    <tr style=\"text-align: right;\">\n",
       "      <th></th>\n",
       "      <th>user_href</th>\n",
       "      <th>text2</th>\n",
       "      <th>reviewer</th>\n",
       "      <th>ratings</th>\n",
       "      <th>review_date</th>\n",
       "      <th>text</th>\n",
       "      <th>loc_searched</th>\n",
       "      <th>lat</th>\n",
       "      <th>long</th>\n",
       "      <th>name_only</th>\n",
       "      <th>address_only</th>\n",
       "      <th>pulse_address</th>\n",
       "      <th>num_reviews</th>\n",
       "      <th>loc_type</th>\n",
       "      <th>price</th>\n",
       "      <th>avg_review</th>\n",
       "      <th>orig_text</th>\n",
       "      <th>fasttext_all</th>\n",
       "      <th>fasttext_results2</th>\n",
       "      <th>topic</th>\n",
       "      <th>class_simple_pred_acc</th>\n",
       "      <th>sentiment</th>\n",
       "      <th>sent_score_pred_acc</th>\n",
       "    </tr>\n",
       "    <tr>\n",
       "      <th>Unnamed: 0</th>\n",
       "      <th></th>\n",
       "      <th></th>\n",
       "      <th></th>\n",
       "      <th></th>\n",
       "      <th></th>\n",
       "      <th></th>\n",
       "      <th></th>\n",
       "      <th></th>\n",
       "      <th></th>\n",
       "      <th></th>\n",
       "      <th></th>\n",
       "      <th></th>\n",
       "      <th></th>\n",
       "      <th></th>\n",
       "      <th></th>\n",
       "      <th></th>\n",
       "      <th></th>\n",
       "      <th></th>\n",
       "      <th></th>\n",
       "      <th></th>\n",
       "      <th></th>\n",
       "      <th></th>\n",
       "      <th></th>\n",
       "    </tr>\n",
       "  </thead>\n",
       "  <tbody>\n",
       "    <tr>\n",
       "      <th>0</th>\n",
       "      <td>https://www.google.com/maps/contrib/115040564956979857850</td>\n",
       "      <td>the staff is scarce</td>\n",
       "      <td>Caye Shoals</td>\n",
       "      <td>4</td>\n",
       "      <td>2019-05-26</td>\n",
       "      <td>staff scarce</td>\n",
       "      <td>12Twelve, 1212 H St NE, Washington, DC 20002</td>\n",
       "      <td>38.900389</td>\n",
       "      <td>-76.989729</td>\n",
       "      <td>12Twelve</td>\n",
       "      <td>1212 H St NE, Washington, DC 20002</td>\n",
       "      <td>W226+54 Washington, District of Columbia</td>\n",
       "      <td>130</td>\n",
       "      <td>Bar &amp; grill</td>\n",
       "      <td>NaN</td>\n",
       "      <td>3.9</td>\n",
       "      <td>Hit or miss, but worth a try. On a good day, the food is good the hookahs are smooth. On a bad day, there is no food and the staff is scarce. But, it has potential, so we keep trying.</td>\n",
       "      <td>['__label__staff', 0.8872146010398865, '', '']</td>\n",
       "      <td>['', '']</td>\n",
       "      <td>staff</td>\n",
       "      <td>0.8872146010398865</td>\n",
       "      <td>NaN</td>\n",
       "      <td>NaN</td>\n",
       "    </tr>\n",
       "    <tr>\n",
       "      <th>1</th>\n",
       "      <td>https://www.google.com/maps/contrib/111264371223730663512</td>\n",
       "      <td>great service</td>\n",
       "      <td>Warren Ragland</td>\n",
       "      <td>5</td>\n",
       "      <td>2019-07-25</td>\n",
       "      <td>great service</td>\n",
       "      <td>12Twelve, 1212 H St NE, Washington, DC 20002</td>\n",
       "      <td>38.900389</td>\n",
       "      <td>-76.989729</td>\n",
       "      <td>12Twelve</td>\n",
       "      <td>1212 H St NE, Washington, DC 20002</td>\n",
       "      <td>W226+54 Washington, District of Columbia</td>\n",
       "      <td>130</td>\n",
       "      <td>Bar &amp; grill</td>\n",
       "      <td>NaN</td>\n",
       "      <td>3.9</td>\n",
       "      <td>Great people. Great service. Hookah and drinks were good. I ll definitely visit again. Food looked good but I already ate.</td>\n",
       "      <td>['__label__staff', 0.9362950325012207, '', '']</td>\n",
       "      <td>['', '']</td>\n",
       "      <td>staff</td>\n",
       "      <td>0.9362950325012207</td>\n",
       "      <td>1.0</td>\n",
       "      <td>0.999993</td>\n",
       "    </tr>\n",
       "    <tr>\n",
       "      <th>2</th>\n",
       "      <td>https://www.google.com/maps/contrib/111264371223730663512</td>\n",
       "      <td>food looked good</td>\n",
       "      <td>Warren Ragland</td>\n",
       "      <td>5</td>\n",
       "      <td>2019-07-25</td>\n",
       "      <td>food looked good</td>\n",
       "      <td>12Twelve, 1212 H St NE, Washington, DC 20002</td>\n",
       "      <td>38.900389</td>\n",
       "      <td>-76.989729</td>\n",
       "      <td>12Twelve</td>\n",
       "      <td>1212 H St NE, Washington, DC 20002</td>\n",
       "      <td>W226+54 Washington, District of Columbia</td>\n",
       "      <td>130</td>\n",
       "      <td>Bar &amp; grill</td>\n",
       "      <td>NaN</td>\n",
       "      <td>3.9</td>\n",
       "      <td>Great people. Great service. Hookah and drinks were good. I ll definitely visit again. Food looked good but I already ate.</td>\n",
       "      <td>['__label__food', 0.9697954058647156, '', '']</td>\n",
       "      <td>['', '']</td>\n",
       "      <td>food</td>\n",
       "      <td>0.9697954058647156</td>\n",
       "      <td>1.0</td>\n",
       "      <td>0.943369</td>\n",
       "    </tr>\n",
       "  </tbody>\n",
       "</table>\n",
       "</div>"
      ],
      "text/plain": [
       "                                                            user_href  \\\n",
       "Unnamed: 0                                                              \n",
       "0           https://www.google.com/maps/contrib/115040564956979857850   \n",
       "1           https://www.google.com/maps/contrib/111264371223730663512   \n",
       "2           https://www.google.com/maps/contrib/111264371223730663512   \n",
       "\n",
       "                           text2        reviewer  ratings review_date  \\\n",
       "Unnamed: 0                                                              \n",
       "0            the staff is scarce  Caye Shoals     4        2019-05-26   \n",
       "1            great service        Warren Ragland  5        2019-07-25   \n",
       "2            food looked good     Warren Ragland  5        2019-07-25   \n",
       "\n",
       "                        text                                   loc_searched  \\\n",
       "Unnamed: 0                                                                    \n",
       "0           staff scarce      12Twelve, 1212 H St NE, Washington, DC 20002    \n",
       "1           great service     12Twelve, 1212 H St NE, Washington, DC 20002    \n",
       "2           food looked good  12Twelve, 1212 H St NE, Washington, DC 20002    \n",
       "\n",
       "                  lat       long name_only  \\\n",
       "Unnamed: 0                                   \n",
       "0           38.900389 -76.989729  12Twelve   \n",
       "1           38.900389 -76.989729  12Twelve   \n",
       "2           38.900389 -76.989729  12Twelve   \n",
       "\n",
       "                                  address_only  \\\n",
       "Unnamed: 0                                       \n",
       "0           1212 H St NE, Washington, DC 20002   \n",
       "1           1212 H St NE, Washington, DC 20002   \n",
       "2           1212 H St NE, Washington, DC 20002   \n",
       "\n",
       "                                       pulse_address num_reviews     loc_type  \\\n",
       "Unnamed: 0                                                                      \n",
       "0           W226+54 Washington, District of Columbia  130         Bar & grill   \n",
       "1           W226+54 Washington, District of Columbia  130         Bar & grill   \n",
       "2           W226+54 Washington, District of Columbia  130         Bar & grill   \n",
       "\n",
       "            price  avg_review  \\\n",
       "Unnamed: 0                      \n",
       "0          NaN     3.9          \n",
       "1          NaN     3.9          \n",
       "2          NaN     3.9          \n",
       "\n",
       "                                                                                                                                                                                          orig_text  \\\n",
       "Unnamed: 0                                                                                                                                                                                            \n",
       "0           Hit or miss, but worth a try. On a good day, the food is good the hookahs are smooth. On a bad day, there is no food and the staff is scarce. But, it has potential, so we keep trying.   \n",
       "1           Great people. Great service. Hookah and drinks were good. I ll definitely visit again. Food looked good but I already ate.                                                                \n",
       "2           Great people. Great service. Hookah and drinks were good. I ll definitely visit again. Food looked good but I already ate.                                                                \n",
       "\n",
       "                                              fasttext_all fasttext_results2  \\\n",
       "Unnamed: 0                                                                     \n",
       "0           ['__label__staff', 0.8872146010398865, '', '']  ['', '']           \n",
       "1           ['__label__staff', 0.9362950325012207, '', '']  ['', '']           \n",
       "2           ['__label__food', 0.9697954058647156, '', '']   ['', '']           \n",
       "\n",
       "            topic class_simple_pred_acc  sentiment  sent_score_pred_acc  \n",
       "Unnamed: 0                                                               \n",
       "0           staff  0.8872146010398865   NaN        NaN                   \n",
       "1           staff  0.9362950325012207    1.0        0.999993             \n",
       "2           food   0.9697954058647156    1.0        0.943369             "
      ]
     },
     "execution_count": 7,
     "metadata": {},
     "output_type": "execute_result"
    }
   ],
   "source": [
    "pd.set_option('display.max_columns', None) \n",
    "pd.set_option('max_colwidth', -1)\n",
    "review_data.head(3)"
   ]
  },
  {
   "cell_type": "code",
   "execution_count": 5,
   "metadata": {},
   "outputs": [
    {
     "data": {
      "text/plain": [
       "(35928, 23)"
      ]
     },
     "execution_count": 5,
     "metadata": {},
     "output_type": "execute_result"
    }
   ],
   "source": [
    "review_data.shape"
   ]
  },
  {
   "cell_type": "code",
   "execution_count": 6,
   "metadata": {},
   "outputs": [
    {
     "name": "stdout",
     "output_type": "stream",
     "text": [
      "<class 'pandas.core.frame.DataFrame'>\n",
      "Int64Index: 35928 entries, 0 to 3719\n",
      "Data columns (total 23 columns):\n",
      "user_href                35928 non-null object\n",
      "text2                    35928 non-null object\n",
      "reviewer                 35928 non-null object\n",
      "ratings                  35928 non-null int64\n",
      "review_date              35928 non-null object\n",
      "text                     35928 non-null object\n",
      "loc_searched             35928 non-null object\n",
      "lat                      35928 non-null float64\n",
      "long                     35928 non-null float64\n",
      "name_only                35928 non-null object\n",
      "address_only             35928 non-null object\n",
      "pulse_address            35928 non-null object\n",
      "num_reviews              35928 non-null object\n",
      "loc_type                 35928 non-null object\n",
      "price                    0 non-null float64\n",
      "avg_review               35928 non-null float64\n",
      "orig_text                35928 non-null object\n",
      "fasttext_all             35928 non-null object\n",
      "fasttext_results2        35928 non-null object\n",
      "topic                    35928 non-null object\n",
      "class_simple_pred_acc    35928 non-null object\n",
      "sentiment                34696 non-null float64\n",
      "sent_score_pred_acc      34696 non-null float64\n",
      "dtypes: float64(6), int64(1), object(16)\n",
      "memory usage: 6.6+ MB\n"
     ]
    }
   ],
   "source": [
    "review_data.info()"
   ]
  },
  {
   "cell_type": "code",
   "execution_count": 8,
   "metadata": {},
   "outputs": [],
   "source": [
    "df=review_data.copy()\n"
   ]
  },
  {
   "cell_type": "code",
   "execution_count": 9,
   "metadata": {},
   "outputs": [],
   "source": [
    "df = df[df[\"loc_searched\"].str.contains(\"H St\")]"
   ]
  },
  {
   "cell_type": "code",
   "execution_count": 10,
   "metadata": {},
   "outputs": [
    {
     "data": {
      "text/plain": [
       "(16396, 23)"
      ]
     },
     "execution_count": 10,
     "metadata": {},
     "output_type": "execute_result"
    }
   ],
   "source": [
    "df.shape"
   ]
  },
  {
   "cell_type": "code",
   "execution_count": 10,
   "metadata": {},
   "outputs": [
    {
     "data": {
      "text/html": [
       "<div>\n",
       "<style scoped>\n",
       "    .dataframe tbody tr th:only-of-type {\n",
       "        vertical-align: middle;\n",
       "    }\n",
       "\n",
       "    .dataframe tbody tr th {\n",
       "        vertical-align: top;\n",
       "    }\n",
       "\n",
       "    .dataframe thead th {\n",
       "        text-align: right;\n",
       "    }\n",
       "</style>\n",
       "<table border=\"1\" class=\"dataframe\">\n",
       "  <thead>\n",
       "    <tr style=\"text-align: right;\">\n",
       "      <th></th>\n",
       "      <th>user_href</th>\n",
       "      <th>text2</th>\n",
       "      <th>reviewer</th>\n",
       "      <th>ratings</th>\n",
       "      <th>review_date</th>\n",
       "      <th>text</th>\n",
       "      <th>loc_searched</th>\n",
       "      <th>lat</th>\n",
       "      <th>long</th>\n",
       "      <th>name_only</th>\n",
       "      <th>address_only</th>\n",
       "      <th>pulse_address</th>\n",
       "      <th>num_reviews</th>\n",
       "      <th>loc_type</th>\n",
       "      <th>price</th>\n",
       "      <th>avg_review</th>\n",
       "      <th>orig_text</th>\n",
       "      <th>fasttext_all</th>\n",
       "      <th>fasttext_results2</th>\n",
       "      <th>topic</th>\n",
       "      <th>class_simple_pred_acc</th>\n",
       "      <th>sentiment</th>\n",
       "      <th>sent_score_pred_acc</th>\n",
       "    </tr>\n",
       "    <tr>\n",
       "      <th>Unnamed: 0</th>\n",
       "      <th></th>\n",
       "      <th></th>\n",
       "      <th></th>\n",
       "      <th></th>\n",
       "      <th></th>\n",
       "      <th></th>\n",
       "      <th></th>\n",
       "      <th></th>\n",
       "      <th></th>\n",
       "      <th></th>\n",
       "      <th></th>\n",
       "      <th></th>\n",
       "      <th></th>\n",
       "      <th></th>\n",
       "      <th></th>\n",
       "      <th></th>\n",
       "      <th></th>\n",
       "      <th></th>\n",
       "      <th></th>\n",
       "      <th></th>\n",
       "      <th></th>\n",
       "      <th></th>\n",
       "      <th></th>\n",
       "    </tr>\n",
       "  </thead>\n",
       "  <tbody>\n",
       "    <tr>\n",
       "      <td>0</td>\n",
       "      <td>https://www.google.com/maps/contrib/115040564956979857850</td>\n",
       "      <td>the staff is scarce</td>\n",
       "      <td>Caye Shoals</td>\n",
       "      <td>4</td>\n",
       "      <td>2019-05-26</td>\n",
       "      <td>staff scarce</td>\n",
       "      <td>12Twelve, 1212 H St NE, Washington, DC 20002</td>\n",
       "      <td>38.900389</td>\n",
       "      <td>-76.989729</td>\n",
       "      <td>12Twelve</td>\n",
       "      <td>1212 H St NE, Washington, DC 20002</td>\n",
       "      <td>W226+54 Washington, District of Columbia</td>\n",
       "      <td>130</td>\n",
       "      <td>Bar &amp; grill</td>\n",
       "      <td>NaN</td>\n",
       "      <td>3.9</td>\n",
       "      <td>Hit or miss, but worth a try. On a good day, the food is good the hookahs are smooth. On a bad day, there is no food and the staff is scarce. But, it has potential, so we keep trying.</td>\n",
       "      <td>['__label__staff', 0.8872146010398865, '', '']</td>\n",
       "      <td>['', '']</td>\n",
       "      <td>staff</td>\n",
       "      <td>0.8872146010398865</td>\n",
       "      <td>NaN</td>\n",
       "      <td>NaN</td>\n",
       "    </tr>\n",
       "    <tr>\n",
       "      <td>1</td>\n",
       "      <td>https://www.google.com/maps/contrib/111264371223730663512</td>\n",
       "      <td>great service</td>\n",
       "      <td>Warren Ragland</td>\n",
       "      <td>5</td>\n",
       "      <td>2019-07-25</td>\n",
       "      <td>great service</td>\n",
       "      <td>12Twelve, 1212 H St NE, Washington, DC 20002</td>\n",
       "      <td>38.900389</td>\n",
       "      <td>-76.989729</td>\n",
       "      <td>12Twelve</td>\n",
       "      <td>1212 H St NE, Washington, DC 20002</td>\n",
       "      <td>W226+54 Washington, District of Columbia</td>\n",
       "      <td>130</td>\n",
       "      <td>Bar &amp; grill</td>\n",
       "      <td>NaN</td>\n",
       "      <td>3.9</td>\n",
       "      <td>Great people. Great service. Hookah and drinks were good. I ll definitely visit again. Food looked good but I already ate.</td>\n",
       "      <td>['__label__staff', 0.9362950325012207, '', '']</td>\n",
       "      <td>['', '']</td>\n",
       "      <td>staff</td>\n",
       "      <td>0.9362950325012207</td>\n",
       "      <td>1.0</td>\n",
       "      <td>0.999993</td>\n",
       "    </tr>\n",
       "    <tr>\n",
       "      <td>2</td>\n",
       "      <td>https://www.google.com/maps/contrib/111264371223730663512</td>\n",
       "      <td>food looked good</td>\n",
       "      <td>Warren Ragland</td>\n",
       "      <td>5</td>\n",
       "      <td>2019-07-25</td>\n",
       "      <td>food looked good</td>\n",
       "      <td>12Twelve, 1212 H St NE, Washington, DC 20002</td>\n",
       "      <td>38.900389</td>\n",
       "      <td>-76.989729</td>\n",
       "      <td>12Twelve</td>\n",
       "      <td>1212 H St NE, Washington, DC 20002</td>\n",
       "      <td>W226+54 Washington, District of Columbia</td>\n",
       "      <td>130</td>\n",
       "      <td>Bar &amp; grill</td>\n",
       "      <td>NaN</td>\n",
       "      <td>3.9</td>\n",
       "      <td>Great people. Great service. Hookah and drinks were good. I ll definitely visit again. Food looked good but I already ate.</td>\n",
       "      <td>['__label__food', 0.9697954058647156, '', '']</td>\n",
       "      <td>['', '']</td>\n",
       "      <td>food</td>\n",
       "      <td>0.9697954058647156</td>\n",
       "      <td>1.0</td>\n",
       "      <td>0.943369</td>\n",
       "    </tr>\n",
       "  </tbody>\n",
       "</table>\n",
       "</div>"
      ],
      "text/plain": [
       "                                                            user_href  \\\n",
       "Unnamed: 0                                                              \n",
       "0           https://www.google.com/maps/contrib/115040564956979857850   \n",
       "1           https://www.google.com/maps/contrib/111264371223730663512   \n",
       "2           https://www.google.com/maps/contrib/111264371223730663512   \n",
       "\n",
       "                           text2        reviewer  ratings review_date  \\\n",
       "Unnamed: 0                                                              \n",
       "0            the staff is scarce  Caye Shoals     4        2019-05-26   \n",
       "1            great service        Warren Ragland  5        2019-07-25   \n",
       "2            food looked good     Warren Ragland  5        2019-07-25   \n",
       "\n",
       "                        text                                   loc_searched  \\\n",
       "Unnamed: 0                                                                    \n",
       "0           staff scarce      12Twelve, 1212 H St NE, Washington, DC 20002    \n",
       "1           great service     12Twelve, 1212 H St NE, Washington, DC 20002    \n",
       "2           food looked good  12Twelve, 1212 H St NE, Washington, DC 20002    \n",
       "\n",
       "                  lat       long name_only  \\\n",
       "Unnamed: 0                                   \n",
       "0           38.900389 -76.989729  12Twelve   \n",
       "1           38.900389 -76.989729  12Twelve   \n",
       "2           38.900389 -76.989729  12Twelve   \n",
       "\n",
       "                                  address_only  \\\n",
       "Unnamed: 0                                       \n",
       "0           1212 H St NE, Washington, DC 20002   \n",
       "1           1212 H St NE, Washington, DC 20002   \n",
       "2           1212 H St NE, Washington, DC 20002   \n",
       "\n",
       "                                       pulse_address num_reviews     loc_type  \\\n",
       "Unnamed: 0                                                                      \n",
       "0           W226+54 Washington, District of Columbia  130         Bar & grill   \n",
       "1           W226+54 Washington, District of Columbia  130         Bar & grill   \n",
       "2           W226+54 Washington, District of Columbia  130         Bar & grill   \n",
       "\n",
       "            price  avg_review  \\\n",
       "Unnamed: 0                      \n",
       "0          NaN     3.9          \n",
       "1          NaN     3.9          \n",
       "2          NaN     3.9          \n",
       "\n",
       "                                                                                                                                                                                          orig_text  \\\n",
       "Unnamed: 0                                                                                                                                                                                            \n",
       "0           Hit or miss, but worth a try. On a good day, the food is good the hookahs are smooth. On a bad day, there is no food and the staff is scarce. But, it has potential, so we keep trying.   \n",
       "1           Great people. Great service. Hookah and drinks were good. I ll definitely visit again. Food looked good but I already ate.                                                                \n",
       "2           Great people. Great service. Hookah and drinks were good. I ll definitely visit again. Food looked good but I already ate.                                                                \n",
       "\n",
       "                                              fasttext_all fasttext_results2  \\\n",
       "Unnamed: 0                                                                     \n",
       "0           ['__label__staff', 0.8872146010398865, '', '']  ['', '']           \n",
       "1           ['__label__staff', 0.9362950325012207, '', '']  ['', '']           \n",
       "2           ['__label__food', 0.9697954058647156, '', '']   ['', '']           \n",
       "\n",
       "            topic class_simple_pred_acc  sentiment  sent_score_pred_acc  \n",
       "Unnamed: 0                                                               \n",
       "0           staff  0.8872146010398865   NaN        NaN                   \n",
       "1           staff  0.9362950325012207    1.0        0.999993             \n",
       "2           food   0.9697954058647156    1.0        0.943369             "
      ]
     },
     "execution_count": 10,
     "metadata": {},
     "output_type": "execute_result"
    }
   ],
   "source": [
    "df.head(3)"
   ]
  },
  {
   "cell_type": "code",
   "execution_count": 11,
   "metadata": {},
   "outputs": [],
   "source": [
    "df.drop(['price'],axis=1,inplace=True)"
   ]
  },
  {
   "cell_type": "code",
   "execution_count": 12,
   "metadata": {},
   "outputs": [
    {
     "data": {
      "text/plain": [
       "(16396, 22)"
      ]
     },
     "execution_count": 12,
     "metadata": {},
     "output_type": "execute_result"
    }
   ],
   "source": [
    "df.shape"
   ]
  },
  {
   "cell_type": "code",
   "execution_count": 13,
   "metadata": {},
   "outputs": [],
   "source": [
    "df.to_csv(\"yuge_hst.csv\")"
   ]
  },
  {
   "cell_type": "code",
   "execution_count": 14,
   "metadata": {},
   "outputs": [
    {
     "data": {
      "text/plain": [
       "(78, 22)"
      ]
     },
     "execution_count": 14,
     "metadata": {},
     "output_type": "execute_result"
    }
   ],
   "source": [
    "df.sort_values(\"name_only\" ,inplace = True) \n",
    "  \n",
    "# dropping ALL duplicte values \n",
    "df.drop_duplicates(subset =\"name_only\", \n",
    "                     keep = \"first\", inplace = True) \n",
    "  \n",
    "# displaying data \n",
    "df.shape"
   ]
  },
  {
   "cell_type": "code",
   "execution_count": 54,
   "metadata": {},
   "outputs": [],
   "source": [
    "from PIL import Image\n",
    "from wordcloud import WordCloud, STOPWORDS, ImageColorGenerator\n",
    "import matplotlib.pyplot as plt\n",
    "%matplotlib inline"
   ]
  },
  {
   "cell_type": "code",
   "execution_count": 55,
   "metadata": {},
   "outputs": [
    {
     "name": "stdout",
     "output_type": "stream",
     "text": [
      "There are 2364005 words in the combination of all review.\n"
     ]
    }
   ],
   "source": [
    "text = \" \".join(review for review in df.orig_text)\n",
    "print (\"There are {} words in the combination of all review.\".format(len(text)))\n"
   ]
  },
  {
   "cell_type": "code",
   "execution_count": 56,
   "metadata": {},
   "outputs": [
    {
     "data": {
      "text/plain": [
       "<matplotlib.image.AxesImage at 0x7fa2f5fc9c50>"
      ]
     },
     "execution_count": 56,
     "metadata": {},
     "output_type": "execute_result"
    },
    {
     "data": {
      "image/png": "[encoded data removed]",
      "text/plain": [
       "<Figure size 432x288 with 1 Axes>"
      ]
     },
     "metadata": {
      "needs_background": "light"
     },
     "output_type": "display_data"
    }
   ],
   "source": [
    "#Create stopword list:\n",
    "stopwords = set(STOPWORDS)\n",
    "stopwords.update([\"place\", \"now\",\"location\",\"time\",\"definitely\",\"one\",\"place\"])\n",
    "\n",
    "# Generate a word cloud image\n",
    "wordcloud = WordCloud(stopwords=stopwords, background_color=\"black\", max_words=100).generate(text)\n",
    "\n",
    "# Display the generated image:\n",
    "# the matplotlib way:\n",
    "plt.imshow(wordcloud, interpolation='bilinear')\n"
   ]
  },
  {
   "cell_type": "code",
   "execution_count": 46,
   "metadata": {},
   "outputs": [
    {
     "data": {
      "image/png": "[encoded data removed]",
      "text/plain": [
       "<Figure size 432x288 with 1 Axes>"
      ]
     },
     "metadata": {
      "needs_background": "light"
     },
     "output_type": "display_data"
    }
   ],
   "source": [
    "mask = np.array(Image.open('h.jpg'))\n",
    "wc = WordCloud(stopwords=stopwords,\n",
    "               mask=mask, background_color=\"white\",\n",
    "               max_words=300, max_font_size=100,\n",
    "               random_state=42, width=mask.shape[1],\n",
    "               height=mask.shape[0],color_func=one_color_func)\n",
    "wc.generate(text)\n",
    "plt.imshow(wc, interpolation=\"bilinear\")\n",
    "plt.axis('off')\n",
    "plt.show()"
   ]
  },
  {
   "cell_type": "code",
   "execution_count": 22,
   "metadata": {},
   "outputs": [],
   "source": [
    "def one_color_func(word=None, font_size=None, \n",
    "                   position=None, orientation=None, \n",
    "                   font_path=None, random_state=None):\n",
    "    h = 160 # 0 - 360\n",
    "    s = 100 # 0 - 100\n",
    "    l = 50 # 0 - 100\n",
    "    return \"hsl({}, {}%, {}%)\".format(h, s, l)"
   ]
  },
  {
   "cell_type": "code",
   "execution_count": 62,
   "metadata": {},
   "outputs": [],
   "source": [
    "def similar_color_func(word=None, font_size=None,\n",
    "                       position=None, orientation=None,\n",
    "                       font_path=None, random_state=None):\n",
    "    h = 45 # 0 - 360\n",
    "    s = 100 # 0 - 100\n",
    "    l = 50 # 0 - 100\n",
    "    return \"hsl({}, {}%, {}%)\".format(h, s, l)"
   ]
  },
  {
   "cell_type": "code",
   "execution_count": 71,
   "metadata": {},
   "outputs": [],
   "source": [
    "def multi_color_func(word=None, font_size=None,\n",
    "                     position=None, orientation=None,\n",
    "                     font_path=None, random_state=None):\n",
    "    colors = [[244,99,25],\n",
    "              [33,99,1],\n",
    "              [282, 50, 31],\n",
    "              [0, 58, 31]]\n",
    "    rand = random_state.randint(0, len(colors) - 1)\n",
    "    return \"hsl({}, {}%, {}%)\".format(colors[rand][0], colors[rand][1], colors[rand][2])"
   ]
  },
  {
   "cell_type": "code",
   "execution_count": 72,
   "metadata": {},
   "outputs": [
    {
     "data": {
      "image/png": "[encoded data removed]",
      "text/plain": [
       "<Figure size 432x288 with 1 Axes>"
      ]
     },
     "metadata": {
      "needs_background": "light"
     },
     "output_type": "display_data"
    }
   ],
   "source": [
    "mask = np.array(Image.open('wordclouds/s.png'))\n",
    "wc = WordCloud(stopwords=stopwords,\n",
    "               mask=mask, background_color=\"white\",\n",
    "               max_words=3000, max_font_size=100,\n",
    "               random_state=42, width=mask.shape[1],\n",
    "               height=mask.shape[0],color_func=multi_color_func)\n",
    "wc.generate(text)\n",
    "plt.imshow(wc, interpolation=\"bilinear\")\n",
    "plt.axis('off')\n",
    "plt.show()"
   ]
  },
  {
   "cell_type": "code",
   "execution_count": 73,
   "metadata": {},
   "outputs": [
    {
     "data": {
      "text/plain": [
       "<wordcloud.wordcloud.WordCloud at 0x7fa2f603e990>"
      ]
     },
     "execution_count": 73,
     "metadata": {},
     "output_type": "execute_result"
    }
   ],
   "source": [
    "wc.to_file(\"cloud3.png\")"
   ]
  },
  {
   "cell_type": "markdown",
   "metadata": {},
   "source": [
    " ## explore the topic frequency"
   ]
  },
  {
   "cell_type": "code",
   "execution_count": 19,
   "metadata": {},
   "outputs": [],
   "source": [
    "df1=review_data.copy()"
   ]
  },
  {
   "cell_type": "code",
   "execution_count": 20,
   "metadata": {},
   "outputs": [],
   "source": [
    "df1 = df1[df1[\"loc_searched\"].str.contains(\"H St\")]"
   ]
  },
  {
   "cell_type": "code",
   "execution_count": 21,
   "metadata": {},
   "outputs": [
    {
     "data": {
      "text/plain": [
       "(16396, 23)"
      ]
     },
     "execution_count": 21,
     "metadata": {},
     "output_type": "execute_result"
    }
   ],
   "source": [
    "df1.shape"
   ]
  },
  {
   "cell_type": "code",
   "execution_count": 22,
   "metadata": {},
   "outputs": [
    {
     "data": {
      "text/plain": [
       "array(['staff', 'food', 'price', 'experience', 'repeat_visit',\n",
       "       'atmosphere', 'with_family_friends', 'service_speed', 'seating',\n",
       "       'nearby_places', 'dc_fundamental', 'cleanliness', 'location',\n",
       "       'parking', 'alc_beverages', 'opening_hours'], dtype=object)"
      ]
     },
     "execution_count": 22,
     "metadata": {},
     "output_type": "execute_result"
    }
   ],
   "source": [
    "df1.topic.unique()"
   ]
  },
  {
   "cell_type": "code",
   "execution_count": 23,
   "metadata": {},
   "outputs": [
    {
     "data": {
      "text/html": [
       "<div>\n",
       "<style scoped>\n",
       "    .dataframe tbody tr th:only-of-type {\n",
       "        vertical-align: middle;\n",
       "    }\n",
       "\n",
       "    .dataframe tbody tr th {\n",
       "        vertical-align: top;\n",
       "    }\n",
       "\n",
       "    .dataframe thead th {\n",
       "        text-align: right;\n",
       "    }\n",
       "</style>\n",
       "<table border=\"1\" class=\"dataframe\">\n",
       "  <thead>\n",
       "    <tr style=\"text-align: right;\">\n",
       "      <th></th>\n",
       "      <th>user_href</th>\n",
       "      <th>text2</th>\n",
       "      <th>reviewer</th>\n",
       "      <th>ratings</th>\n",
       "      <th>review_date</th>\n",
       "      <th>text</th>\n",
       "      <th>loc_searched</th>\n",
       "      <th>lat</th>\n",
       "      <th>long</th>\n",
       "      <th>name_only</th>\n",
       "      <th>address_only</th>\n",
       "      <th>pulse_address</th>\n",
       "      <th>num_reviews</th>\n",
       "      <th>loc_type</th>\n",
       "      <th>price</th>\n",
       "      <th>avg_review</th>\n",
       "      <th>orig_text</th>\n",
       "      <th>fasttext_all</th>\n",
       "      <th>fasttext_results2</th>\n",
       "      <th>topic</th>\n",
       "      <th>class_simple_pred_acc</th>\n",
       "      <th>sentiment</th>\n",
       "      <th>sent_score_pred_acc</th>\n",
       "    </tr>\n",
       "    <tr>\n",
       "      <th>Unnamed: 0</th>\n",
       "      <th></th>\n",
       "      <th></th>\n",
       "      <th></th>\n",
       "      <th></th>\n",
       "      <th></th>\n",
       "      <th></th>\n",
       "      <th></th>\n",
       "      <th></th>\n",
       "      <th></th>\n",
       "      <th></th>\n",
       "      <th></th>\n",
       "      <th></th>\n",
       "      <th></th>\n",
       "      <th></th>\n",
       "      <th></th>\n",
       "      <th></th>\n",
       "      <th></th>\n",
       "      <th></th>\n",
       "      <th></th>\n",
       "      <th></th>\n",
       "      <th></th>\n",
       "      <th></th>\n",
       "      <th></th>\n",
       "    </tr>\n",
       "  </thead>\n",
       "  <tbody>\n",
       "    <tr>\n",
       "      <td>0</td>\n",
       "      <td>https://www.google.com/maps/contrib/1150405649...</td>\n",
       "      <td>the staff is scarce</td>\n",
       "      <td>Caye Shoals</td>\n",
       "      <td>4</td>\n",
       "      <td>2019-05-26</td>\n",
       "      <td>staff scarce</td>\n",
       "      <td>12Twelve, 1212 H St NE, Washington, DC 20002</td>\n",
       "      <td>38.900389</td>\n",
       "      <td>-76.989729</td>\n",
       "      <td>12Twelve</td>\n",
       "      <td>1212 H St NE, Washington, DC 20002</td>\n",
       "      <td>W226+54 Washington, District of Columbia</td>\n",
       "      <td>130</td>\n",
       "      <td>Bar &amp; grill</td>\n",
       "      <td>NaN</td>\n",
       "      <td>3.9</td>\n",
       "      <td>Hit or miss, but worth a try. On a good day, t...</td>\n",
       "      <td>['__label__staff', 0.8872146010398865, '', '']</td>\n",
       "      <td>['', '']</td>\n",
       "      <td>staff</td>\n",
       "      <td>0.8872146010398865</td>\n",
       "      <td>NaN</td>\n",
       "      <td>NaN</td>\n",
       "    </tr>\n",
       "    <tr>\n",
       "      <td>1</td>\n",
       "      <td>https://www.google.com/maps/contrib/1112643712...</td>\n",
       "      <td>great service</td>\n",
       "      <td>Warren Ragland</td>\n",
       "      <td>5</td>\n",
       "      <td>2019-07-25</td>\n",
       "      <td>great service</td>\n",
       "      <td>12Twelve, 1212 H St NE, Washington, DC 20002</td>\n",
       "      <td>38.900389</td>\n",
       "      <td>-76.989729</td>\n",
       "      <td>12Twelve</td>\n",
       "      <td>1212 H St NE, Washington, DC 20002</td>\n",
       "      <td>W226+54 Washington, District of Columbia</td>\n",
       "      <td>130</td>\n",
       "      <td>Bar &amp; grill</td>\n",
       "      <td>NaN</td>\n",
       "      <td>3.9</td>\n",
       "      <td>Great people. Great service. Hookah and drinks...</td>\n",
       "      <td>['__label__staff', 0.9362950325012207, '', '']</td>\n",
       "      <td>['', '']</td>\n",
       "      <td>staff</td>\n",
       "      <td>0.9362950325012207</td>\n",
       "      <td>1.0</td>\n",
       "      <td>0.999993</td>\n",
       "    </tr>\n",
       "    <tr>\n",
       "      <td>2</td>\n",
       "      <td>https://www.google.com/maps/contrib/1112643712...</td>\n",
       "      <td>food looked good</td>\n",
       "      <td>Warren Ragland</td>\n",
       "      <td>5</td>\n",
       "      <td>2019-07-25</td>\n",
       "      <td>food looked good</td>\n",
       "      <td>12Twelve, 1212 H St NE, Washington, DC 20002</td>\n",
       "      <td>38.900389</td>\n",
       "      <td>-76.989729</td>\n",
       "      <td>12Twelve</td>\n",
       "      <td>1212 H St NE, Washington, DC 20002</td>\n",
       "      <td>W226+54 Washington, District of Columbia</td>\n",
       "      <td>130</td>\n",
       "      <td>Bar &amp; grill</td>\n",
       "      <td>NaN</td>\n",
       "      <td>3.9</td>\n",
       "      <td>Great people. Great service. Hookah and drinks...</td>\n",
       "      <td>['__label__food', 0.9697954058647156, '', '']</td>\n",
       "      <td>['', '']</td>\n",
       "      <td>food</td>\n",
       "      <td>0.9697954058647156</td>\n",
       "      <td>1.0</td>\n",
       "      <td>0.943369</td>\n",
       "    </tr>\n",
       "    <tr>\n",
       "      <td>3</td>\n",
       "      <td>https://www.google.com/maps/contrib/1126967942...</td>\n",
       "      <td>the food is a little pricey</td>\n",
       "      <td>Syretta Butler</td>\n",
       "      <td>5</td>\n",
       "      <td>2019-09-23</td>\n",
       "      <td>food little pricey</td>\n",
       "      <td>12Twelve, 1212 H St NE, Washington, DC 20002</td>\n",
       "      <td>38.900389</td>\n",
       "      <td>-76.989729</td>\n",
       "      <td>12Twelve</td>\n",
       "      <td>1212 H St NE, Washington, DC 20002</td>\n",
       "      <td>W226+54 Washington, District of Columbia</td>\n",
       "      <td>130</td>\n",
       "      <td>Bar &amp; grill</td>\n",
       "      <td>NaN</td>\n",
       "      <td>3.9</td>\n",
       "      <td>The food is a little pricey but absolutely del...</td>\n",
       "      <td>['__label__price', 0.9669240117073059, '', '']</td>\n",
       "      <td>['', '']</td>\n",
       "      <td>price</td>\n",
       "      <td>0.9669240117073059</td>\n",
       "      <td>-1.0</td>\n",
       "      <td>0.887641</td>\n",
       "    </tr>\n",
       "    <tr>\n",
       "      <td>4</td>\n",
       "      <td>https://www.google.com/maps/contrib/1126967942...</td>\n",
       "      <td>80 for the total experience</td>\n",
       "      <td>Syretta Butler</td>\n",
       "      <td>5</td>\n",
       "      <td>2019-09-23</td>\n",
       "      <td>total experience</td>\n",
       "      <td>12Twelve, 1212 H St NE, Washington, DC 20002</td>\n",
       "      <td>38.900389</td>\n",
       "      <td>-76.989729</td>\n",
       "      <td>12Twelve</td>\n",
       "      <td>1212 H St NE, Washington, DC 20002</td>\n",
       "      <td>W226+54 Washington, District of Columbia</td>\n",
       "      <td>130</td>\n",
       "      <td>Bar &amp; grill</td>\n",
       "      <td>NaN</td>\n",
       "      <td>3.9</td>\n",
       "      <td>The food is a little pricey but absolutely del...</td>\n",
       "      <td>['__label__experience', 1.0000100135803223, ''...</td>\n",
       "      <td>['', '']</td>\n",
       "      <td>experience</td>\n",
       "      <td>1.0000100135803223</td>\n",
       "      <td>1.0</td>\n",
       "      <td>0.846102</td>\n",
       "    </tr>\n",
       "    <tr>\n",
       "      <td>5</td>\n",
       "      <td>https://www.google.com/maps/contrib/1126967942...</td>\n",
       "      <td>good food</td>\n",
       "      <td>Syretta Butler</td>\n",
       "      <td>5</td>\n",
       "      <td>2019-09-23</td>\n",
       "      <td>good food</td>\n",
       "      <td>12Twelve, 1212 H St NE, Washington, DC 20002</td>\n",
       "      <td>38.900389</td>\n",
       "      <td>-76.989729</td>\n",
       "      <td>12Twelve</td>\n",
       "      <td>1212 H St NE, Washington, DC 20002</td>\n",
       "      <td>W226+54 Washington, District of Columbia</td>\n",
       "      <td>130</td>\n",
       "      <td>Bar &amp; grill</td>\n",
       "      <td>NaN</td>\n",
       "      <td>3.9</td>\n",
       "      <td>The food is a little pricey but absolutely del...</td>\n",
       "      <td>['__label__food', 0.9304682612419128, '', '']</td>\n",
       "      <td>['', '']</td>\n",
       "      <td>food</td>\n",
       "      <td>0.9304682612419128</td>\n",
       "      <td>1.0</td>\n",
       "      <td>0.776716</td>\n",
       "    </tr>\n",
       "    <tr>\n",
       "      <td>6</td>\n",
       "      <td>https://www.google.com/maps/contrib/1135856250...</td>\n",
       "      <td>great staff</td>\n",
       "      <td>Sadequi Hamilton</td>\n",
       "      <td>4</td>\n",
       "      <td>2020-02-20</td>\n",
       "      <td>great staff</td>\n",
       "      <td>12Twelve, 1212 H St NE, Washington, DC 20002</td>\n",
       "      <td>38.900389</td>\n",
       "      <td>-76.989729</td>\n",
       "      <td>12Twelve</td>\n",
       "      <td>1212 H St NE, Washington, DC 20002</td>\n",
       "      <td>W226+54 Washington, District of Columbia</td>\n",
       "      <td>130</td>\n",
       "      <td>Bar &amp; grill</td>\n",
       "      <td>NaN</td>\n",
       "      <td>3.9</td>\n",
       "      <td>Great staff, prices are competitive for a spot...</td>\n",
       "      <td>['__label__staff', 0.9935217499732971, '', '']</td>\n",
       "      <td>['', '']</td>\n",
       "      <td>staff</td>\n",
       "      <td>0.9935217499732971</td>\n",
       "      <td>1.0</td>\n",
       "      <td>1.000003</td>\n",
       "    </tr>\n",
       "    <tr>\n",
       "      <td>7</td>\n",
       "      <td>https://www.google.com/maps/contrib/1086916980...</td>\n",
       "      <td>the food is good</td>\n",
       "      <td>duane sneed</td>\n",
       "      <td>3</td>\n",
       "      <td>2019-05-26</td>\n",
       "      <td>food good</td>\n",
       "      <td>12Twelve, 1212 H St NE, Washington, DC 20002</td>\n",
       "      <td>38.900389</td>\n",
       "      <td>-76.989729</td>\n",
       "      <td>12Twelve</td>\n",
       "      <td>1212 H St NE, Washington, DC 20002</td>\n",
       "      <td>W226+54 Washington, District of Columbia</td>\n",
       "      <td>130</td>\n",
       "      <td>Bar &amp; grill</td>\n",
       "      <td>NaN</td>\n",
       "      <td>3.9</td>\n",
       "      <td>The food is good. The decor is very good and i...</td>\n",
       "      <td>['__label__food', 0.9883227348327637, '', '']</td>\n",
       "      <td>['', '']</td>\n",
       "      <td>food</td>\n",
       "      <td>0.9883227348327637</td>\n",
       "      <td>1.0</td>\n",
       "      <td>0.776716</td>\n",
       "    </tr>\n",
       "    <tr>\n",
       "      <td>8</td>\n",
       "      <td>https://www.google.com/maps/contrib/1086916980...</td>\n",
       "      <td>the only issue that my group encountered was ...</td>\n",
       "      <td>duane sneed</td>\n",
       "      <td>3</td>\n",
       "      <td>2019-05-26</td>\n",
       "      <td>issue group encountered working kinks service</td>\n",
       "      <td>12Twelve, 1212 H St NE, Washington, DC 20002</td>\n",
       "      <td>38.900389</td>\n",
       "      <td>-76.989729</td>\n",
       "      <td>12Twelve</td>\n",
       "      <td>1212 H St NE, Washington, DC 20002</td>\n",
       "      <td>W226+54 Washington, District of Columbia</td>\n",
       "      <td>130</td>\n",
       "      <td>Bar &amp; grill</td>\n",
       "      <td>NaN</td>\n",
       "      <td>3.9</td>\n",
       "      <td>The food is good. The decor is very good and i...</td>\n",
       "      <td>['__label__staff', 0.6001983880996704, '', '']</td>\n",
       "      <td>['', '']</td>\n",
       "      <td>staff</td>\n",
       "      <td>0.6001983880996704</td>\n",
       "      <td>1.0</td>\n",
       "      <td>0.946705</td>\n",
       "    </tr>\n",
       "    <tr>\n",
       "      <td>9</td>\n",
       "      <td>https://www.google.com/maps/contrib/1144226702...</td>\n",
       "      <td>gil the chef your food is everything</td>\n",
       "      <td>ray G</td>\n",
       "      <td>5</td>\n",
       "      <td>2019-05-26</td>\n",
       "      <td>gil chef food</td>\n",
       "      <td>12Twelve, 1212 H St NE, Washington, DC 20002</td>\n",
       "      <td>38.900389</td>\n",
       "      <td>-76.989729</td>\n",
       "      <td>12Twelve</td>\n",
       "      <td>1212 H St NE, Washington, DC 20002</td>\n",
       "      <td>W226+54 Washington, District of Columbia</td>\n",
       "      <td>130</td>\n",
       "      <td>Bar &amp; grill</td>\n",
       "      <td>NaN</td>\n",
       "      <td>3.9</td>\n",
       "      <td>The service is spectacular the vibes are great...</td>\n",
       "      <td>['__label__food', 0.7057950496673584, '', '']</td>\n",
       "      <td>['', '']</td>\n",
       "      <td>food</td>\n",
       "      <td>0.7057950496673584</td>\n",
       "      <td>0.0</td>\n",
       "      <td>0.999973</td>\n",
       "    </tr>\n",
       "  </tbody>\n",
       "</table>\n",
       "</div>"
      ],
      "text/plain": [
       "                                                    user_href  \\\n",
       "Unnamed: 0                                                      \n",
       "0           https://www.google.com/maps/contrib/1150405649...   \n",
       "1           https://www.google.com/maps/contrib/1112643712...   \n",
       "2           https://www.google.com/maps/contrib/1112643712...   \n",
       "3           https://www.google.com/maps/contrib/1126967942...   \n",
       "4           https://www.google.com/maps/contrib/1126967942...   \n",
       "5           https://www.google.com/maps/contrib/1126967942...   \n",
       "6           https://www.google.com/maps/contrib/1135856250...   \n",
       "7           https://www.google.com/maps/contrib/1086916980...   \n",
       "8           https://www.google.com/maps/contrib/1086916980...   \n",
       "9           https://www.google.com/maps/contrib/1144226702...   \n",
       "\n",
       "                                                        text2  \\\n",
       "Unnamed: 0                                                      \n",
       "0                                         the staff is scarce   \n",
       "1                                               great service   \n",
       "2                                           food looked good    \n",
       "3                                the food is a little pricey    \n",
       "4                                 80 for the total experience   \n",
       "5                                                   good food   \n",
       "6                                                 great staff   \n",
       "7                                            the food is good   \n",
       "8            the only issue that my group encountered was ...   \n",
       "9                        gil the chef your food is everything   \n",
       "\n",
       "                    reviewer  ratings review_date  \\\n",
       "Unnamed: 0                                          \n",
       "0                Caye Shoals        4  2019-05-26   \n",
       "1             Warren Ragland        5  2019-07-25   \n",
       "2             Warren Ragland        5  2019-07-25   \n",
       "3             Syretta Butler        5  2019-09-23   \n",
       "4             Syretta Butler        5  2019-09-23   \n",
       "5             Syretta Butler        5  2019-09-23   \n",
       "6           Sadequi Hamilton        4  2020-02-20   \n",
       "7                duane sneed        3  2019-05-26   \n",
       "8                duane sneed        3  2019-05-26   \n",
       "9                      ray G        5  2019-05-26   \n",
       "\n",
       "                                                     text  \\\n",
       "Unnamed: 0                                                  \n",
       "0                                            staff scarce   \n",
       "1                                           great service   \n",
       "2                                        food looked good   \n",
       "3                                      food little pricey   \n",
       "4                                        total experience   \n",
       "5                                               good food   \n",
       "6                                             great staff   \n",
       "7                                               food good   \n",
       "8           issue group encountered working kinks service   \n",
       "9                                           gil chef food   \n",
       "\n",
       "                                             loc_searched        lat  \\\n",
       "Unnamed: 0                                                             \n",
       "0           12Twelve, 1212 H St NE, Washington, DC 20002   38.900389   \n",
       "1           12Twelve, 1212 H St NE, Washington, DC 20002   38.900389   \n",
       "2           12Twelve, 1212 H St NE, Washington, DC 20002   38.900389   \n",
       "3           12Twelve, 1212 H St NE, Washington, DC 20002   38.900389   \n",
       "4           12Twelve, 1212 H St NE, Washington, DC 20002   38.900389   \n",
       "5           12Twelve, 1212 H St NE, Washington, DC 20002   38.900389   \n",
       "6           12Twelve, 1212 H St NE, Washington, DC 20002   38.900389   \n",
       "7           12Twelve, 1212 H St NE, Washington, DC 20002   38.900389   \n",
       "8           12Twelve, 1212 H St NE, Washington, DC 20002   38.900389   \n",
       "9           12Twelve, 1212 H St NE, Washington, DC 20002   38.900389   \n",
       "\n",
       "                 long name_only                        address_only  \\\n",
       "Unnamed: 0                                                            \n",
       "0          -76.989729  12Twelve  1212 H St NE, Washington, DC 20002   \n",
       "1          -76.989729  12Twelve  1212 H St NE, Washington, DC 20002   \n",
       "2          -76.989729  12Twelve  1212 H St NE, Washington, DC 20002   \n",
       "3          -76.989729  12Twelve  1212 H St NE, Washington, DC 20002   \n",
       "4          -76.989729  12Twelve  1212 H St NE, Washington, DC 20002   \n",
       "5          -76.989729  12Twelve  1212 H St NE, Washington, DC 20002   \n",
       "6          -76.989729  12Twelve  1212 H St NE, Washington, DC 20002   \n",
       "7          -76.989729  12Twelve  1212 H St NE, Washington, DC 20002   \n",
       "8          -76.989729  12Twelve  1212 H St NE, Washington, DC 20002   \n",
       "9          -76.989729  12Twelve  1212 H St NE, Washington, DC 20002   \n",
       "\n",
       "                                       pulse_address num_reviews     loc_type  \\\n",
       "Unnamed: 0                                                                      \n",
       "0           W226+54 Washington, District of Columbia         130  Bar & grill   \n",
       "1           W226+54 Washington, District of Columbia         130  Bar & grill   \n",
       "2           W226+54 Washington, District of Columbia         130  Bar & grill   \n",
       "3           W226+54 Washington, District of Columbia         130  Bar & grill   \n",
       "4           W226+54 Washington, District of Columbia         130  Bar & grill   \n",
       "5           W226+54 Washington, District of Columbia         130  Bar & grill   \n",
       "6           W226+54 Washington, District of Columbia         130  Bar & grill   \n",
       "7           W226+54 Washington, District of Columbia         130  Bar & grill   \n",
       "8           W226+54 Washington, District of Columbia         130  Bar & grill   \n",
       "9           W226+54 Washington, District of Columbia         130  Bar & grill   \n",
       "\n",
       "            price  avg_review  \\\n",
       "Unnamed: 0                      \n",
       "0             NaN         3.9   \n",
       "1             NaN         3.9   \n",
       "2             NaN         3.9   \n",
       "3             NaN         3.9   \n",
       "4             NaN         3.9   \n",
       "5             NaN         3.9   \n",
       "6             NaN         3.9   \n",
       "7             NaN         3.9   \n",
       "8             NaN         3.9   \n",
       "9             NaN         3.9   \n",
       "\n",
       "                                                    orig_text  \\\n",
       "Unnamed: 0                                                      \n",
       "0           Hit or miss, but worth a try. On a good day, t...   \n",
       "1           Great people. Great service. Hookah and drinks...   \n",
       "2           Great people. Great service. Hookah and drinks...   \n",
       "3           The food is a little pricey but absolutely del...   \n",
       "4           The food is a little pricey but absolutely del...   \n",
       "5           The food is a little pricey but absolutely del...   \n",
       "6           Great staff, prices are competitive for a spot...   \n",
       "7           The food is good. The decor is very good and i...   \n",
       "8           The food is good. The decor is very good and i...   \n",
       "9           The service is spectacular the vibes are great...   \n",
       "\n",
       "                                                 fasttext_all  \\\n",
       "Unnamed: 0                                                      \n",
       "0              ['__label__staff', 0.8872146010398865, '', '']   \n",
       "1              ['__label__staff', 0.9362950325012207, '', '']   \n",
       "2               ['__label__food', 0.9697954058647156, '', '']   \n",
       "3              ['__label__price', 0.9669240117073059, '', '']   \n",
       "4           ['__label__experience', 1.0000100135803223, ''...   \n",
       "5               ['__label__food', 0.9304682612419128, '', '']   \n",
       "6              ['__label__staff', 0.9935217499732971, '', '']   \n",
       "7               ['__label__food', 0.9883227348327637, '', '']   \n",
       "8              ['__label__staff', 0.6001983880996704, '', '']   \n",
       "9               ['__label__food', 0.7057950496673584, '', '']   \n",
       "\n",
       "           fasttext_results2       topic class_simple_pred_acc  sentiment  \\\n",
       "Unnamed: 0                                                                  \n",
       "0                   ['', '']       staff    0.8872146010398865        NaN   \n",
       "1                   ['', '']       staff    0.9362950325012207        1.0   \n",
       "2                   ['', '']        food    0.9697954058647156        1.0   \n",
       "3                   ['', '']       price    0.9669240117073059       -1.0   \n",
       "4                   ['', '']  experience    1.0000100135803223        1.0   \n",
       "5                   ['', '']        food    0.9304682612419128        1.0   \n",
       "6                   ['', '']       staff    0.9935217499732971        1.0   \n",
       "7                   ['', '']        food    0.9883227348327637        1.0   \n",
       "8                   ['', '']       staff    0.6001983880996704        1.0   \n",
       "9                   ['', '']        food    0.7057950496673584        0.0   \n",
       "\n",
       "            sent_score_pred_acc  \n",
       "Unnamed: 0                       \n",
       "0                           NaN  \n",
       "1                      0.999993  \n",
       "2                      0.943369  \n",
       "3                      0.887641  \n",
       "4                      0.846102  \n",
       "5                      0.776716  \n",
       "6                      1.000003  \n",
       "7                      0.776716  \n",
       "8                      0.946705  \n",
       "9                      0.999973  "
      ]
     },
     "execution_count": 23,
     "metadata": {},
     "output_type": "execute_result"
    }
   ],
   "source": [
    "pd.set_option('max_colwidth', 50)\n",
    "df1.head(10)"
   ]
  },
  {
   "cell_type": "code",
   "execution_count": 24,
   "metadata": {},
   "outputs": [
    {
     "data": {
      "text/plain": [
       "food                   4259\n",
       "staff                  4030\n",
       "nearby_places          1780\n",
       "atmosphere             1167\n",
       "price                   758\n",
       "alc_beverages           757\n",
       "repeat_visit            625\n",
       "experience              564\n",
       "service_speed           496\n",
       "dc_fundamental          467\n",
       "with_family_friends     420\n",
       "seating                 254\n",
       "parking                 235\n",
       "cleanliness             206\n",
       "location                197\n",
       "opening_hours           181\n",
       "Name: topic, dtype: int64"
      ]
     },
     "execution_count": 24,
     "metadata": {},
     "output_type": "execute_result"
    }
   ],
   "source": [
    "df1.topic.value_counts()"
   ]
  },
  {
   "cell_type": "code",
   "execution_count": 25,
   "metadata": {},
   "outputs": [],
   "source": [
    "plot_topic=df1.topic.value_counts()"
   ]
  },
  {
   "cell_type": "code",
   "execution_count": 26,
   "metadata": {},
   "outputs": [],
   "source": [
    "plot_topic.sort_values(ascending=False,inplace=True)\n",
    "plot_topic=plot_topic.to_frame()\n"
   ]
  },
  {
   "cell_type": "code",
   "execution_count": 27,
   "metadata": {},
   "outputs": [
    {
     "data": {
      "text/html": [
       "<div>\n",
       "<style scoped>\n",
       "    .dataframe tbody tr th:only-of-type {\n",
       "        vertical-align: middle;\n",
       "    }\n",
       "\n",
       "    .dataframe tbody tr th {\n",
       "        vertical-align: top;\n",
       "    }\n",
       "\n",
       "    .dataframe thead th {\n",
       "        text-align: right;\n",
       "    }\n",
       "</style>\n",
       "<table border=\"1\" class=\"dataframe\">\n",
       "  <thead>\n",
       "    <tr style=\"text-align: right;\">\n",
       "      <th></th>\n",
       "      <th>topic</th>\n",
       "    </tr>\n",
       "  </thead>\n",
       "  <tbody>\n",
       "    <tr>\n",
       "      <td>food</td>\n",
       "      <td>4259</td>\n",
       "    </tr>\n",
       "    <tr>\n",
       "      <td>staff</td>\n",
       "      <td>4030</td>\n",
       "    </tr>\n",
       "    <tr>\n",
       "      <td>nearby_places</td>\n",
       "      <td>1780</td>\n",
       "    </tr>\n",
       "    <tr>\n",
       "      <td>atmosphere</td>\n",
       "      <td>1167</td>\n",
       "    </tr>\n",
       "    <tr>\n",
       "      <td>price</td>\n",
       "      <td>758</td>\n",
       "    </tr>\n",
       "    <tr>\n",
       "      <td>alc_beverages</td>\n",
       "      <td>757</td>\n",
       "    </tr>\n",
       "    <tr>\n",
       "      <td>repeat_visit</td>\n",
       "      <td>625</td>\n",
       "    </tr>\n",
       "    <tr>\n",
       "      <td>experience</td>\n",
       "      <td>564</td>\n",
       "    </tr>\n",
       "    <tr>\n",
       "      <td>service_speed</td>\n",
       "      <td>496</td>\n",
       "    </tr>\n",
       "    <tr>\n",
       "      <td>dc_fundamental</td>\n",
       "      <td>467</td>\n",
       "    </tr>\n",
       "    <tr>\n",
       "      <td>with_family_friends</td>\n",
       "      <td>420</td>\n",
       "    </tr>\n",
       "    <tr>\n",
       "      <td>seating</td>\n",
       "      <td>254</td>\n",
       "    </tr>\n",
       "    <tr>\n",
       "      <td>parking</td>\n",
       "      <td>235</td>\n",
       "    </tr>\n",
       "    <tr>\n",
       "      <td>cleanliness</td>\n",
       "      <td>206</td>\n",
       "    </tr>\n",
       "    <tr>\n",
       "      <td>location</td>\n",
       "      <td>197</td>\n",
       "    </tr>\n",
       "    <tr>\n",
       "      <td>opening_hours</td>\n",
       "      <td>181</td>\n",
       "    </tr>\n",
       "  </tbody>\n",
       "</table>\n",
       "</div>"
      ],
      "text/plain": [
       "                     topic\n",
       "food                  4259\n",
       "staff                 4030\n",
       "nearby_places         1780\n",
       "atmosphere            1167\n",
       "price                  758\n",
       "alc_beverages          757\n",
       "repeat_visit           625\n",
       "experience             564\n",
       "service_speed          496\n",
       "dc_fundamental         467\n",
       "with_family_friends    420\n",
       "seating                254\n",
       "parking                235\n",
       "cleanliness            206\n",
       "location               197\n",
       "opening_hours          181"
      ]
     },
     "execution_count": 27,
     "metadata": {},
     "output_type": "execute_result"
    }
   ],
   "source": [
    "plot_topic"
   ]
  },
  {
   "cell_type": "code",
   "execution_count": 28,
   "metadata": {},
   "outputs": [
    {
     "data": {
      "text/plain": [
       "Index(['food', 'staff', 'nearby_places', 'atmosphere', 'price',\n",
       "       'alc_beverages', 'repeat_visit', 'experience', 'service_speed',\n",
       "       'dc_fundamental', 'with_family_friends', 'seating', 'parking',\n",
       "       'cleanliness', 'location', 'opening_hours'],\n",
       "      dtype='object')"
      ]
     },
     "execution_count": 28,
     "metadata": {},
     "output_type": "execute_result"
    }
   ],
   "source": [
    "plot_topic.index"
   ]
  },
  {
   "cell_type": "code",
   "execution_count": 29,
   "metadata": {},
   "outputs": [
    {
     "data": {
      "text/plain": [
       "<matplotlib.axes._subplots.AxesSubplot at 0x7f951c97e8d0>"
      ]
     },
     "execution_count": 29,
     "metadata": {},
     "output_type": "execute_result"
    },
    {
     "data": {
      "image/png": "[encoded data removed]",
      "text/plain": [
       "<Figure size 432x288 with 1 Axes>"
      ]
     },
     "metadata": {
      "needs_background": "light"
     },
     "output_type": "display_data"
    }
   ],
   "source": [
    "import matplotlib.pyplot as plt\n",
    "\n",
    "fig, ax = plt.subplots()\n",
    "plot_topic.plot(ax=ax, kind='bar',color='green')"
   ]
  },
  {
   "cell_type": "code",
   "execution_count": 30,
   "metadata": {},
   "outputs": [
    {
     "data": {
      "image/png": "[encoded data removed]",
      "text/plain": [
       "<Figure size 432x288 with 1 Axes>"
      ]
     },
     "metadata": {
      "needs_background": "light"
     },
     "output_type": "display_data"
    }
   ],
   "source": [
    "import seaborn as sns\n",
    "\n",
    "ax = sns.countplot(y='topic',data=df1,dodge=False).set_title('topics for H street')"
   ]
  },
  {
   "cell_type": "code",
   "execution_count": 31,
   "metadata": {},
   "outputs": [],
   "source": [
    "\n",
    "ax.figure.savefig(\"output.png\")"
   ]
  },
  {
   "cell_type": "code",
   "execution_count": 32,
   "metadata": {},
   "outputs": [
    {
     "data": {
      "text/plain": [
       "1,182    925\n",
       "3,115    872\n",
       "914      668\n",
       "1,043    665\n",
       "1,669    664\n",
       "        ... \n",
       "20         8\n",
       "15         8\n",
       "24         6\n",
       "11         4\n",
       "4          1\n",
       "Name: num_reviews, Length: 75, dtype: int64"
      ]
     },
     "execution_count": 32,
     "metadata": {},
     "output_type": "execute_result"
    }
   ],
   "source": [
    "df1.num_reviews.value_counts()"
   ]
  },
  {
   "cell_type": "code",
   "execution_count": 33,
   "metadata": {},
   "outputs": [
    {
     "data": {
      "text/html": [
       "<div>\n",
       "<style scoped>\n",
       "    .dataframe tbody tr th:only-of-type {\n",
       "        vertical-align: middle;\n",
       "    }\n",
       "\n",
       "    .dataframe tbody tr th {\n",
       "        vertical-align: top;\n",
       "    }\n",
       "\n",
       "    .dataframe thead th {\n",
       "        text-align: right;\n",
       "    }\n",
       "</style>\n",
       "<table border=\"1\" class=\"dataframe\">\n",
       "  <thead>\n",
       "    <tr style=\"text-align: right;\">\n",
       "      <th></th>\n",
       "      <th>user_href</th>\n",
       "      <th>text2</th>\n",
       "      <th>reviewer</th>\n",
       "      <th>ratings</th>\n",
       "      <th>review_date</th>\n",
       "      <th>text</th>\n",
       "      <th>loc_searched</th>\n",
       "      <th>lat</th>\n",
       "      <th>long</th>\n",
       "      <th>name_only</th>\n",
       "      <th>address_only</th>\n",
       "      <th>pulse_address</th>\n",
       "      <th>num_reviews</th>\n",
       "      <th>loc_type</th>\n",
       "      <th>price</th>\n",
       "      <th>avg_review</th>\n",
       "      <th>orig_text</th>\n",
       "      <th>fasttext_all</th>\n",
       "      <th>fasttext_results2</th>\n",
       "      <th>topic</th>\n",
       "      <th>class_simple_pred_acc</th>\n",
       "      <th>sentiment</th>\n",
       "      <th>sent_score_pred_acc</th>\n",
       "    </tr>\n",
       "    <tr>\n",
       "      <th>Unnamed: 0</th>\n",
       "      <th></th>\n",
       "      <th></th>\n",
       "      <th></th>\n",
       "      <th></th>\n",
       "      <th></th>\n",
       "      <th></th>\n",
       "      <th></th>\n",
       "      <th></th>\n",
       "      <th></th>\n",
       "      <th></th>\n",
       "      <th></th>\n",
       "      <th></th>\n",
       "      <th></th>\n",
       "      <th></th>\n",
       "      <th></th>\n",
       "      <th></th>\n",
       "      <th></th>\n",
       "      <th></th>\n",
       "      <th></th>\n",
       "      <th></th>\n",
       "      <th></th>\n",
       "      <th></th>\n",
       "      <th></th>\n",
       "    </tr>\n",
       "  </thead>\n",
       "  <tbody>\n",
       "    <tr>\n",
       "      <td>524</td>\n",
       "      <td>https://www.google.com/maps/contrib/1018100688...</td>\n",
       "      <td>try far east taco grill</td>\n",
       "      <td>Austin Graff</td>\n",
       "      <td>4</td>\n",
       "      <td>2017-06-05</td>\n",
       "      <td>try far east taco grill</td>\n",
       "      <td>Fare Well, 406 H St NE, Washington, DC 20002</td>\n",
       "      <td>38.900353</td>\n",
       "      <td>-77.000147</td>\n",
       "      <td>Fare Well</td>\n",
       "      <td>406 H St NE, Washington, DC 20002</td>\n",
       "      <td>WX2X+4W Washington, District of Columbia</td>\n",
       "      <td>1,182</td>\n",
       "      <td>Vegan restaurant</td>\n",
       "      <td>NaN</td>\n",
       "      <td>4.4</td>\n",
       "      <td>Don't let the word \"vegan\" scare you. Fare Wel...</td>\n",
       "      <td>['__label__nearby_places', 0.6654205918312073,...</td>\n",
       "      <td>['', '']</td>\n",
       "      <td>nearby_places</td>\n",
       "      <td>0.6654205918312073</td>\n",
       "      <td>1.0</td>\n",
       "      <td>1.000010</td>\n",
       "    </tr>\n",
       "    <tr>\n",
       "      <td>639</td>\n",
       "      <td>https://www.google.com/maps/contrib/1065234076...</td>\n",
       "      <td>vegan food done absolutely perfectly</td>\n",
       "      <td>Scott Grenerth</td>\n",
       "      <td>5</td>\n",
       "      <td>2020-01-21</td>\n",
       "      <td>vegan food absolutely perfectly</td>\n",
       "      <td>Fare Well, 406 H St NE, Washington, DC 20002</td>\n",
       "      <td>38.900353</td>\n",
       "      <td>-77.000147</td>\n",
       "      <td>Fare Well</td>\n",
       "      <td>406 H St NE, Washington, DC 20002</td>\n",
       "      <td>WX2X+4W Washington, District of Columbia</td>\n",
       "      <td>1,182</td>\n",
       "      <td>Vegan restaurant</td>\n",
       "      <td>NaN</td>\n",
       "      <td>4.4</td>\n",
       "      <td>Vegan food done absolutely perfectly and delic...</td>\n",
       "      <td>['__label__food', 0.6791887283325195, '', '']</td>\n",
       "      <td>['', '']</td>\n",
       "      <td>food</td>\n",
       "      <td>0.6791887283325195</td>\n",
       "      <td>NaN</td>\n",
       "      <td>NaN</td>\n",
       "    </tr>\n",
       "    <tr>\n",
       "      <td>640</td>\n",
       "      <td>https://www.google.com/maps/contrib/1123036899...</td>\n",
       "      <td>delicious food</td>\n",
       "      <td>Fern Crossway</td>\n",
       "      <td>5</td>\n",
       "      <td>2019-11-22</td>\n",
       "      <td>delicious food</td>\n",
       "      <td>Fare Well, 406 H St NE, Washington, DC 20002</td>\n",
       "      <td>38.900353</td>\n",
       "      <td>-77.000147</td>\n",
       "      <td>Fare Well</td>\n",
       "      <td>406 H St NE, Washington, DC 20002</td>\n",
       "      <td>WX2X+4W Washington, District of Columbia</td>\n",
       "      <td>1,182</td>\n",
       "      <td>Vegan restaurant</td>\n",
       "      <td>NaN</td>\n",
       "      <td>4.4</td>\n",
       "      <td>100% vegan diner in DC serving 100% delicious ...</td>\n",
       "      <td>['__label__food', 0.9046605229377747, '', '']</td>\n",
       "      <td>['', '']</td>\n",
       "      <td>food</td>\n",
       "      <td>0.9046605229377747</td>\n",
       "      <td>0.0</td>\n",
       "      <td>0.687762</td>\n",
       "    </tr>\n",
       "    <tr>\n",
       "      <td>641</td>\n",
       "      <td>https://www.google.com/maps/contrib/1123036899...</td>\n",
       "      <td>booth seating</td>\n",
       "      <td>Fern Crossway</td>\n",
       "      <td>5</td>\n",
       "      <td>2019-11-22</td>\n",
       "      <td>booth seating</td>\n",
       "      <td>Fare Well, 406 H St NE, Washington, DC 20002</td>\n",
       "      <td>38.900353</td>\n",
       "      <td>-77.000147</td>\n",
       "      <td>Fare Well</td>\n",
       "      <td>406 H St NE, Washington, DC 20002</td>\n",
       "      <td>WX2X+4W Washington, District of Columbia</td>\n",
       "      <td>1,182</td>\n",
       "      <td>Vegan restaurant</td>\n",
       "      <td>NaN</td>\n",
       "      <td>4.4</td>\n",
       "      <td>100% vegan diner in DC serving 100% delicious ...</td>\n",
       "      <td>['__label__seating', 0.9905974268913269, '', '']</td>\n",
       "      <td>['', '']</td>\n",
       "      <td>seating</td>\n",
       "      <td>0.9905974268913269</td>\n",
       "      <td>1.0</td>\n",
       "      <td>0.886843</td>\n",
       "    </tr>\n",
       "    <tr>\n",
       "      <td>642</td>\n",
       "      <td>https://www.google.com/maps/contrib/1119271665...</td>\n",
       "      <td>a 35 minutes walk</td>\n",
       "      <td>c walter</td>\n",
       "      <td>3</td>\n",
       "      <td>2020-03-21</td>\n",
       "      <td>minutes walk</td>\n",
       "      <td>Fare Well, 406 H St NE, Washington, DC 20002</td>\n",
       "      <td>38.900353</td>\n",
       "      <td>-77.000147</td>\n",
       "      <td>Fare Well</td>\n",
       "      <td>406 H St NE, Washington, DC 20002</td>\n",
       "      <td>WX2X+4W Washington, District of Columbia</td>\n",
       "      <td>1,182</td>\n",
       "      <td>Vegan restaurant</td>\n",
       "      <td>NaN</td>\n",
       "      <td>4.4</td>\n",
       "      <td>Each time I visit DC, I try to visit a new to ...</td>\n",
       "      <td>['__label__nearby_places', 0.8740872144699097,...</td>\n",
       "      <td>['', '']</td>\n",
       "      <td>nearby_places</td>\n",
       "      <td>0.8740872144699097</td>\n",
       "      <td>NaN</td>\n",
       "      <td>NaN</td>\n",
       "    </tr>\n",
       "    <tr>\n",
       "      <td>...</td>\n",
       "      <td>...</td>\n",
       "      <td>...</td>\n",
       "      <td>...</td>\n",
       "      <td>...</td>\n",
       "      <td>...</td>\n",
       "      <td>...</td>\n",
       "      <td>...</td>\n",
       "      <td>...</td>\n",
       "      <td>...</td>\n",
       "      <td>...</td>\n",
       "      <td>...</td>\n",
       "      <td>...</td>\n",
       "      <td>...</td>\n",
       "      <td>...</td>\n",
       "      <td>...</td>\n",
       "      <td>...</td>\n",
       "      <td>...</td>\n",
       "      <td>...</td>\n",
       "      <td>...</td>\n",
       "      <td>...</td>\n",
       "      <td>...</td>\n",
       "      <td>...</td>\n",
       "      <td>...</td>\n",
       "    </tr>\n",
       "    <tr>\n",
       "      <td>12764</td>\n",
       "      <td>https://www.google.com/maps/contrib/1049063157...</td>\n",
       "      <td>nice atmosphere</td>\n",
       "      <td>MsPia1980</td>\n",
       "      <td>3</td>\n",
       "      <td>2019-05-26</td>\n",
       "      <td>nice atmosphere</td>\n",
       "      <td>Fare Well, 406 H St NE, Washington, DC 20002</td>\n",
       "      <td>38.900353</td>\n",
       "      <td>-77.000147</td>\n",
       "      <td>Fare Well</td>\n",
       "      <td>406 H St NE, Washington, DC 20002</td>\n",
       "      <td>WX2X+4W Washington, District of Columbia</td>\n",
       "      <td>1,182</td>\n",
       "      <td>Vegan restaurant</td>\n",
       "      <td>NaN</td>\n",
       "      <td>4.4</td>\n",
       "      <td>Nachos and pancakes were awesome...good custom...</td>\n",
       "      <td>['__label__atmosphere', 1.0000100135803223, ''...</td>\n",
       "      <td>['', '']</td>\n",
       "      <td>atmosphere</td>\n",
       "      <td>1.0000100135803223</td>\n",
       "      <td>1.0</td>\n",
       "      <td>1.000005</td>\n",
       "    </tr>\n",
       "    <tr>\n",
       "      <td>12967</td>\n",
       "      <td>https://www.google.com/maps/contrib/1082626644...</td>\n",
       "      <td>a little on the pricey side for diner food</td>\n",
       "      <td>Veggie O's</td>\n",
       "      <td>4</td>\n",
       "      <td>2018-05-31</td>\n",
       "      <td>little pricey diner food</td>\n",
       "      <td>Fare Well, 406 H St NE, Washington, DC 20002</td>\n",
       "      <td>38.900353</td>\n",
       "      <td>-77.000147</td>\n",
       "      <td>Fare Well</td>\n",
       "      <td>406 H St NE, Washington, DC 20002</td>\n",
       "      <td>WX2X+4W Washington, District of Columbia</td>\n",
       "      <td>1,182</td>\n",
       "      <td>Vegan restaurant</td>\n",
       "      <td>NaN</td>\n",
       "      <td>4.4</td>\n",
       "      <td>Cool vibes. Plenty of vegan dessert options. S...</td>\n",
       "      <td>['__label__price', 0.7431780099868774, '__labe...</td>\n",
       "      <td>['__label__food', 0.6584275364875793]</td>\n",
       "      <td>food</td>\n",
       "      <td>0.6584275364875793</td>\n",
       "      <td>-1.0</td>\n",
       "      <td>0.998201</td>\n",
       "    </tr>\n",
       "    <tr>\n",
       "      <td>12968</td>\n",
       "      <td>https://www.google.com/maps/contrib/1148703363...</td>\n",
       "      <td>the food was not good</td>\n",
       "      <td>James Mora</td>\n",
       "      <td>1</td>\n",
       "      <td>2019-05-26</td>\n",
       "      <td>food not good</td>\n",
       "      <td>Fare Well, 406 H St NE, Washington, DC 20002</td>\n",
       "      <td>38.900353</td>\n",
       "      <td>-77.000147</td>\n",
       "      <td>Fare Well</td>\n",
       "      <td>406 H St NE, Washington, DC 20002</td>\n",
       "      <td>WX2X+4W Washington, District of Columbia</td>\n",
       "      <td>1,182</td>\n",
       "      <td>Vegan restaurant</td>\n",
       "      <td>NaN</td>\n",
       "      <td>4.4</td>\n",
       "      <td>Unfortunately, the food was not good. The prio...</td>\n",
       "      <td>['__label__food', 0.8221991658210754, '__label...</td>\n",
       "      <td>['__label__repeat_visit', 0.6992644667625427]</td>\n",
       "      <td>repeat_visit</td>\n",
       "      <td>0.6992644667625427</td>\n",
       "      <td>0.0</td>\n",
       "      <td>0.984662</td>\n",
       "    </tr>\n",
       "    <tr>\n",
       "      <td>12977</td>\n",
       "      <td>https://www.google.com/maps/contrib/1111221134...</td>\n",
       "      <td>a great place to be in dc</td>\n",
       "      <td>Troywade DeVese</td>\n",
       "      <td>5</td>\n",
       "      <td>2019-05-26</td>\n",
       "      <td>great place dc</td>\n",
       "      <td>Fare Well, 406 H St NE, Washington, DC 20002</td>\n",
       "      <td>38.900353</td>\n",
       "      <td>-77.000147</td>\n",
       "      <td>Fare Well</td>\n",
       "      <td>406 H St NE, Washington, DC 20002</td>\n",
       "      <td>WX2X+4W Washington, District of Columbia</td>\n",
       "      <td>1,182</td>\n",
       "      <td>Vegan restaurant</td>\n",
       "      <td>NaN</td>\n",
       "      <td>4.4</td>\n",
       "      <td>Love, Love, Love, this restaurant. Very good f...</td>\n",
       "      <td>['__label__dc_fundamental', 0.7606606483459473...</td>\n",
       "      <td>['__label__location', 0.6723417043685913]</td>\n",
       "      <td>location</td>\n",
       "      <td>0.6723417043685913</td>\n",
       "      <td>1.0</td>\n",
       "      <td>1.000010</td>\n",
       "    </tr>\n",
       "    <tr>\n",
       "      <td>13017</td>\n",
       "      <td>https://www.google.com/maps/contrib/1018100688...</td>\n",
       "      <td>the staff try to keep it clean</td>\n",
       "      <td>Austin Graff</td>\n",
       "      <td>4</td>\n",
       "      <td>2017-06-05</td>\n",
       "      <td>staff try clean</td>\n",
       "      <td>Fare Well, 406 H St NE, Washington, DC 20002</td>\n",
       "      <td>38.900353</td>\n",
       "      <td>-77.000147</td>\n",
       "      <td>Fare Well</td>\n",
       "      <td>406 H St NE, Washington, DC 20002</td>\n",
       "      <td>WX2X+4W Washington, District of Columbia</td>\n",
       "      <td>1,182</td>\n",
       "      <td>Vegan restaurant</td>\n",
       "      <td>NaN</td>\n",
       "      <td>4.4</td>\n",
       "      <td>Don't let the word \"vegan\" scare you. Fare Wel...</td>\n",
       "      <td>['__label__staff', 0.9381340146064758, '__labe...</td>\n",
       "      <td>['__label__cleanliness', 0.6297846436500549]</td>\n",
       "      <td>cleanliness</td>\n",
       "      <td>0.6297846436500549</td>\n",
       "      <td>1.0</td>\n",
       "      <td>0.997710</td>\n",
       "    </tr>\n",
       "  </tbody>\n",
       "</table>\n",
       "<p>925 rows × 23 columns</p>\n",
       "</div>"
      ],
      "text/plain": [
       "                                                    user_href  \\\n",
       "Unnamed: 0                                                      \n",
       "524         https://www.google.com/maps/contrib/1018100688...   \n",
       "639         https://www.google.com/maps/contrib/1065234076...   \n",
       "640         https://www.google.com/maps/contrib/1123036899...   \n",
       "641         https://www.google.com/maps/contrib/1123036899...   \n",
       "642         https://www.google.com/maps/contrib/1119271665...   \n",
       "...                                                       ...   \n",
       "12764       https://www.google.com/maps/contrib/1049063157...   \n",
       "12967       https://www.google.com/maps/contrib/1082626644...   \n",
       "12968       https://www.google.com/maps/contrib/1148703363...   \n",
       "12977       https://www.google.com/maps/contrib/1111221134...   \n",
       "13017       https://www.google.com/maps/contrib/1018100688...   \n",
       "\n",
       "                                                  text2         reviewer  \\\n",
       "Unnamed: 0                                                                 \n",
       "524                             try far east taco grill     Austin Graff   \n",
       "639               vegan food done absolutely perfectly    Scott Grenerth   \n",
       "640                                      delicious food    Fern Crossway   \n",
       "641                                      booth seating     Fern Crossway   \n",
       "642                                   a 35 minutes walk         c walter   \n",
       "...                                                 ...              ...   \n",
       "12764                                  nice atmosphere         MsPia1980   \n",
       "12967        a little on the pricey side for diner food       Veggie O's   \n",
       "12968                             the food was not good       James Mora   \n",
       "12977                         a great place to be in dc  Troywade DeVese   \n",
       "13017                    the staff try to keep it clean     Austin Graff   \n",
       "\n",
       "            ratings review_date                             text  \\\n",
       "Unnamed: 0                                                         \n",
       "524               4  2017-06-05          try far east taco grill   \n",
       "639               5  2020-01-21  vegan food absolutely perfectly   \n",
       "640               5  2019-11-22                   delicious food   \n",
       "641               5  2019-11-22                    booth seating   \n",
       "642               3  2020-03-21                     minutes walk   \n",
       "...             ...         ...                              ...   \n",
       "12764             3  2019-05-26                  nice atmosphere   \n",
       "12967             4  2018-05-31         little pricey diner food   \n",
       "12968             1  2019-05-26                    food not good   \n",
       "12977             5  2019-05-26                   great place dc   \n",
       "13017             4  2017-06-05                  staff try clean   \n",
       "\n",
       "                                             loc_searched        lat  \\\n",
       "Unnamed: 0                                                             \n",
       "524         Fare Well, 406 H St NE, Washington, DC 20002   38.900353   \n",
       "639         Fare Well, 406 H St NE, Washington, DC 20002   38.900353   \n",
       "640         Fare Well, 406 H St NE, Washington, DC 20002   38.900353   \n",
       "641         Fare Well, 406 H St NE, Washington, DC 20002   38.900353   \n",
       "642         Fare Well, 406 H St NE, Washington, DC 20002   38.900353   \n",
       "...                                                   ...        ...   \n",
       "12764       Fare Well, 406 H St NE, Washington, DC 20002   38.900353   \n",
       "12967       Fare Well, 406 H St NE, Washington, DC 20002   38.900353   \n",
       "12968       Fare Well, 406 H St NE, Washington, DC 20002   38.900353   \n",
       "12977       Fare Well, 406 H St NE, Washington, DC 20002   38.900353   \n",
       "13017       Fare Well, 406 H St NE, Washington, DC 20002   38.900353   \n",
       "\n",
       "                 long  name_only                       address_only  \\\n",
       "Unnamed: 0                                                            \n",
       "524        -77.000147  Fare Well  406 H St NE, Washington, DC 20002   \n",
       "639        -77.000147  Fare Well  406 H St NE, Washington, DC 20002   \n",
       "640        -77.000147  Fare Well  406 H St NE, Washington, DC 20002   \n",
       "641        -77.000147  Fare Well  406 H St NE, Washington, DC 20002   \n",
       "642        -77.000147  Fare Well  406 H St NE, Washington, DC 20002   \n",
       "...               ...        ...                                ...   \n",
       "12764      -77.000147  Fare Well  406 H St NE, Washington, DC 20002   \n",
       "12967      -77.000147  Fare Well  406 H St NE, Washington, DC 20002   \n",
       "12968      -77.000147  Fare Well  406 H St NE, Washington, DC 20002   \n",
       "12977      -77.000147  Fare Well  406 H St NE, Washington, DC 20002   \n",
       "13017      -77.000147  Fare Well  406 H St NE, Washington, DC 20002   \n",
       "\n",
       "                                       pulse_address num_reviews  \\\n",
       "Unnamed: 0                                                         \n",
       "524         WX2X+4W Washington, District of Columbia       1,182   \n",
       "639         WX2X+4W Washington, District of Columbia       1,182   \n",
       "640         WX2X+4W Washington, District of Columbia       1,182   \n",
       "641         WX2X+4W Washington, District of Columbia       1,182   \n",
       "642         WX2X+4W Washington, District of Columbia       1,182   \n",
       "...                                              ...         ...   \n",
       "12764       WX2X+4W Washington, District of Columbia       1,182   \n",
       "12967       WX2X+4W Washington, District of Columbia       1,182   \n",
       "12968       WX2X+4W Washington, District of Columbia       1,182   \n",
       "12977       WX2X+4W Washington, District of Columbia       1,182   \n",
       "13017       WX2X+4W Washington, District of Columbia       1,182   \n",
       "\n",
       "                    loc_type  price  avg_review  \\\n",
       "Unnamed: 0                                        \n",
       "524         Vegan restaurant    NaN         4.4   \n",
       "639         Vegan restaurant    NaN         4.4   \n",
       "640         Vegan restaurant    NaN         4.4   \n",
       "641         Vegan restaurant    NaN         4.4   \n",
       "642         Vegan restaurant    NaN         4.4   \n",
       "...                      ...    ...         ...   \n",
       "12764       Vegan restaurant    NaN         4.4   \n",
       "12967       Vegan restaurant    NaN         4.4   \n",
       "12968       Vegan restaurant    NaN         4.4   \n",
       "12977       Vegan restaurant    NaN         4.4   \n",
       "13017       Vegan restaurant    NaN         4.4   \n",
       "\n",
       "                                                    orig_text  \\\n",
       "Unnamed: 0                                                      \n",
       "524         Don't let the word \"vegan\" scare you. Fare Wel...   \n",
       "639         Vegan food done absolutely perfectly and delic...   \n",
       "640         100% vegan diner in DC serving 100% delicious ...   \n",
       "641         100% vegan diner in DC serving 100% delicious ...   \n",
       "642         Each time I visit DC, I try to visit a new to ...   \n",
       "...                                                       ...   \n",
       "12764       Nachos and pancakes were awesome...good custom...   \n",
       "12967       Cool vibes. Plenty of vegan dessert options. S...   \n",
       "12968       Unfortunately, the food was not good. The prio...   \n",
       "12977       Love, Love, Love, this restaurant. Very good f...   \n",
       "13017       Don't let the word \"vegan\" scare you. Fare Wel...   \n",
       "\n",
       "                                                 fasttext_all  \\\n",
       "Unnamed: 0                                                      \n",
       "524         ['__label__nearby_places', 0.6654205918312073,...   \n",
       "639             ['__label__food', 0.6791887283325195, '', '']   \n",
       "640             ['__label__food', 0.9046605229377747, '', '']   \n",
       "641          ['__label__seating', 0.9905974268913269, '', '']   \n",
       "642         ['__label__nearby_places', 0.8740872144699097,...   \n",
       "...                                                       ...   \n",
       "12764       ['__label__atmosphere', 1.0000100135803223, ''...   \n",
       "12967       ['__label__price', 0.7431780099868774, '__labe...   \n",
       "12968       ['__label__food', 0.8221991658210754, '__label...   \n",
       "12977       ['__label__dc_fundamental', 0.7606606483459473...   \n",
       "13017       ['__label__staff', 0.9381340146064758, '__labe...   \n",
       "\n",
       "                                        fasttext_results2          topic  \\\n",
       "Unnamed: 0                                                                 \n",
       "524                                              ['', '']  nearby_places   \n",
       "639                                              ['', '']           food   \n",
       "640                                              ['', '']           food   \n",
       "641                                              ['', '']        seating   \n",
       "642                                              ['', '']  nearby_places   \n",
       "...                                                   ...            ...   \n",
       "12764                                            ['', '']     atmosphere   \n",
       "12967               ['__label__food', 0.6584275364875793]           food   \n",
       "12968       ['__label__repeat_visit', 0.6992644667625427]   repeat_visit   \n",
       "12977           ['__label__location', 0.6723417043685913]       location   \n",
       "13017        ['__label__cleanliness', 0.6297846436500549]    cleanliness   \n",
       "\n",
       "           class_simple_pred_acc  sentiment  sent_score_pred_acc  \n",
       "Unnamed: 0                                                        \n",
       "524           0.6654205918312073        1.0             1.000010  \n",
       "639           0.6791887283325195        NaN                  NaN  \n",
       "640           0.9046605229377747        0.0             0.687762  \n",
       "641           0.9905974268913269        1.0             0.886843  \n",
       "642           0.8740872144699097        NaN                  NaN  \n",
       "...                          ...        ...                  ...  \n",
       "12764         1.0000100135803223        1.0             1.000005  \n",
       "12967         0.6584275364875793       -1.0             0.998201  \n",
       "12968         0.6992644667625427        0.0             0.984662  \n",
       "12977         0.6723417043685913        1.0             1.000010  \n",
       "13017         0.6297846436500549        1.0             0.997710  \n",
       "\n",
       "[925 rows x 23 columns]"
      ]
     },
     "execution_count": 33,
     "metadata": {},
     "output_type": "execute_result"
    }
   ],
   "source": [
    "df1[df1.name_only==\"Fare Well\"]"
   ]
  },
  {
   "cell_type": "markdown",
   "metadata": {},
   "source": [
    "T test for two big category RESTAURANT & BAR"
   ]
  },
  {
   "cell_type": "code",
   "execution_count": 43,
   "metadata": {},
   "outputs": [],
   "source": [
    "Good_rest=df1[(df1.loc_type=='Asian fusion restaurant')|(df1.loc_type=='Asian restaurant')|\n",
    "    (df1.loc_type=='Brunch restaurant')|(df1.loc_type=='German restaurant')|(df1.loc_type=='Italian restaurant')|\n",
    "              (df1.loc_type=='Latin American restaurant')|(df1.loc_type=='Pie shop')\n",
    "    |(df1.loc_type=='Restaurant')|(df1.loc_type=='Vegan restaurant')]\n"
   ]
  },
  {
   "cell_type": "code",
   "execution_count": 45,
   "metadata": {},
   "outputs": [
    {
     "data": {
      "text/plain": [
       "(5080, 23)"
      ]
     },
     "execution_count": 45,
     "metadata": {},
     "output_type": "execute_result"
    }
   ],
   "source": [
    "Good_rest.shape"
   ]
  },
  {
   "cell_type": "code",
   "execution_count": 46,
   "metadata": {},
   "outputs": [],
   "source": [
    "Good_rest.to_csv(\"Good_restaurant.csv\")"
   ]
  },
  {
   "cell_type": "code",
   "execution_count": null,
   "metadata": {},
   "outputs": [],
   "source": [
    "from statistics import *"
   ]
  },
  {
   "cell_type": "code",
   "execution_count": 57,
   "metadata": {
    "scrolled": true
   },
   "outputs": [
    {
     "data": {
      "text/plain": [
       "4.38"
      ]
     },
     "execution_count": 57,
     "metadata": {},
     "output_type": "execute_result"
    }
   ],
   "source": [
    "round(mean(Good_rest['avg_review']),2)#mean of  good restaurant"
   ]
  },
  {
   "cell_type": "code",
   "execution_count": 59,
   "metadata": {},
   "outputs": [
    {
     "data": {
      "text/plain": [
       "0.16"
      ]
     },
     "execution_count": 59,
     "metadata": {},
     "output_type": "execute_result"
    }
   ],
   "source": [
    "round(stdev(Good_rest['avg_review']),2) # sample stdv of good restaurant"
   ]
  },
  {
   "cell_type": "code",
   "execution_count": 76,
   "metadata": {},
   "outputs": [
    {
     "data": {
      "text/plain": [
       "17"
      ]
     },
     "execution_count": 76,
     "metadata": {},
     "output_type": "execute_result"
    }
   ],
   "source": [
    "n_rest=len(Good_rest.name_only.unique())\n",
    "n_rest"
   ]
  },
  {
   "cell_type": "code",
   "execution_count": 58,
   "metadata": {},
   "outputs": [
    {
     "data": {
      "text/plain": [
       "4.28"
      ]
     },
     "execution_count": 58,
     "metadata": {},
     "output_type": "execute_result"
    }
   ],
   "source": [
    "round(mean(df1['avg_review']),2) # population mean"
   ]
  },
  {
   "cell_type": "code",
   "execution_count": 61,
   "metadata": {},
   "outputs": [
    {
     "data": {
      "text/plain": [
       "0.28"
      ]
     },
     "execution_count": 61,
     "metadata": {},
     "output_type": "execute_result"
    }
   ],
   "source": [
    "round(pstdev(df1['avg_review']),2) # population stdv"
   ]
  },
  {
   "cell_type": "code",
   "execution_count": 62,
   "metadata": {},
   "outputs": [],
   "source": [
    "Good_bar=df1[(df1.loc_type=='Bar')|(df1.loc_type=='Coffee shop')|\n",
    "    (df1.loc_type=='Cocktail bar')|(df1.loc_type=='Pub')]"
   ]
  },
  {
   "cell_type": "code",
   "execution_count": 63,
   "metadata": {},
   "outputs": [
    {
     "data": {
      "text/plain": [
       "(1960, 23)"
      ]
     },
     "execution_count": 63,
     "metadata": {},
     "output_type": "execute_result"
    }
   ],
   "source": [
    "Good_bar.shape"
   ]
  },
  {
   "cell_type": "code",
   "execution_count": 64,
   "metadata": {},
   "outputs": [],
   "source": [
    "Good_bar.to_csv(\"Good_bar.csv\")"
   ]
  },
  {
   "cell_type": "code",
   "execution_count": 65,
   "metadata": {},
   "outputs": [
    {
     "data": {
      "text/plain": [
       "4.53"
      ]
     },
     "execution_count": 65,
     "metadata": {},
     "output_type": "execute_result"
    }
   ],
   "source": [
    "round(mean(Good_bar['avg_review']),2)#rating mean of good bars"
   ]
  },
  {
   "cell_type": "code",
   "execution_count": 66,
   "metadata": {},
   "outputs": [
    {
     "data": {
      "text/plain": [
       "0.07"
      ]
     },
     "execution_count": 66,
     "metadata": {},
     "output_type": "execute_result"
    }
   ],
   "source": [
    "round(stdev(Good_bar['avg_review']),2) # rating sample stdv of good bars"
   ]
  },
  {
   "cell_type": "code",
   "execution_count": 79,
   "metadata": {},
   "outputs": [
    {
     "data": {
      "text/plain": [
       "10"
      ]
     },
     "execution_count": 79,
     "metadata": {},
     "output_type": "execute_result"
    }
   ],
   "source": [
    "n_bar=len(Good_bar.name_only.unique())\n",
    "n_bar"
   ]
  },
  {
   "cell_type": "code",
   "execution_count": 86,
   "metadata": {},
   "outputs": [
    {
     "data": {
      "text/plain": [
       "78"
      ]
     },
     "execution_count": 86,
     "metadata": {},
     "output_type": "execute_result"
    }
   ],
   "source": [
    "n_popul=len(df1.name_only.unique())\n",
    "n_popul"
   ]
  },
  {
   "cell_type": "code",
   "execution_count": 81,
   "metadata": {},
   "outputs": [],
   "source": [
    "from math import sqrt"
   ]
  },
  {
   "cell_type": "code",
   "execution_count": 83,
   "metadata": {},
   "outputs": [
    {
     "name": "stdout",
     "output_type": "stream",
     "text": [
      "2.5769410160110287 11.29384878631564\n"
     ]
    }
   ],
   "source": [
    "# T score :\n",
    "t_rest=(4.38-4.28)/(0.16/sqrt(17))\n",
    "t_bar= (4.53-4.28)/(0.07/sqrt(10))\n",
    "print(t_rest,t_bar)"
   ]
  },
  {
   "cell_type": "markdown",
   "metadata": {},
   "source": [
    "H_0: x_res_mean<=population_mean=4.28\n",
    "H_1: x_res_mean>population_mean=4.28\n",
    "α = 0.05\n",
    "v=17-1=16\n",
    "critical t-value :t_rest>1.74\n",
    "therefore, we reject the null hypothesis and have 95% confidence to accept the alternative hypotheses that x_res_mean<=population_mean=4.28\n",
    "    "
   ]
  },
  {
   "cell_type": "code",
   "execution_count": 93,
   "metadata": {},
   "outputs": [
    {
     "name": "stdout",
     "output_type": "stream",
     "text": [
      "2.8214379233005493\n",
      "0.9899999999718329\n"
     ]
    }
   ],
   "source": [
    "\n",
    "from scipy.stats import t\n",
    "\n",
    "p = 0.99\n",
    "df = 9\n",
    "value = t.ppf(p, df)\n",
    "print(value)\n",
    "p = t.cdf(value, df)\n",
    "print(p)"
   ]
  },
  {
   "cell_type": "code",
   "execution_count": null,
   "metadata": {},
   "outputs": [],
   "source": [
    "H_0: x_bar_mean<=population_mean=4.28\n",
    "H_1: x_bar_mean>population_mean=4.28\n",
    "α = 0.05\n",
    "v=10-1=9\n",
    "critical t-value :t_bar>2.82\n",
    "therefore, we reject the null hypothesis and have 99% confidence to accept the alternative hypotheses that x_barb_mean<=population_mean=4.28"
   ]
  },
  {
   "cell_type": "markdown",
   "metadata": {},
   "source": [
    "we can also conlude that the bar has much greater review mean compared to restaurants. since we have 99% confidence to say that the bars' review mean are greater than the review mean for all the business types on H street."
   ]
  },
  {
   "cell_type": "markdown",
   "metadata": {},
   "source": [
    "# LET'S COMPARE THE MEAN REVIEW SCORE OF RESTATNAT AND BAR\n",
    "H_0: x_bar_mean<=x_res_mean\n",
    "H_1: x_bar>x_res_mean\n",
    "t_score=(4.53-4.38)/(sqrt(0.07^2/10+0.16^2/17)=3.3575600588927172\n",
    "                     df=10+17-2=25\n",
    "                     \n",
    " critical t =  2.4851071754106413<      t_score \n",
    "                     \n",
    "   we have 99% confidencen to reject the null and accept the alternative hypothesis that x_bar>x_res_mean"
   ]
  },
  {
   "cell_type": "code",
   "execution_count": 100,
   "metadata": {},
   "outputs": [
    {
     "name": "stdout",
     "output_type": "stream",
     "text": [
      "2.4851071754106413\n",
      "0.9899999999999973\n"
     ]
    }
   ],
   "source": [
    "p = 0.99\n",
    "df = 25\n",
    "value = t.ppf(p, df)\n",
    "print(value)\n",
    "p = t.cdf(value, df)\n",
    "print(p)"
   ]
  },
  {
   "cell_type": "code",
   "execution_count": 99,
   "metadata": {},
   "outputs": [
    {
     "data": {
      "text/plain": [
       "3.3575600588927172"
      ]
     },
     "execution_count": 99,
     "metadata": {},
     "output_type": "execute_result"
    }
   ],
   "source": [
    "t_score=(4.53-4.38)/(sqrt(0.07**2/10+0.16**2/17))\n",
    "t_score"
   ]
  },
  {
   "cell_type": "code",
   "execution_count": 103,
   "metadata": {},
   "outputs": [
    {
     "data": {
      "text/plain": [
       "0.3178727249493419"
      ]
     },
     "execution_count": 103,
     "metadata": {},
     "output_type": "execute_result"
    }
   ],
   "source": [
    "(219116-149465)/219116"
   ]
  },
  {
   "cell_type": "code",
   "execution_count": 104,
   "metadata": {},
   "outputs": [
    {
     "data": {
      "text/plain": [
       "0.8288963971498344"
      ]
     },
     "execution_count": 104,
     "metadata": {},
     "output_type": "execute_result"
    }
   ],
   "source": [
    "(149465-25574)/149465"
   ]
  },
  {
   "cell_type": "code",
   "execution_count": null,
   "metadata": {},
   "outputs": [],
   "source": []
  }
 ],
 "metadata": {
  "kernelspec": {
   "display_name": "Python 3",
   "language": "python",
   "name": "python3"
  },
  "language_info": {
   "codemirror_mode": {
    "name": "ipython",
    "version": 3
   },
   "file_extension": ".py",
   "mimetype": "text/x-python",
   "name": "python",
   "nbconvert_exporter": "python",
   "pygments_lexer": "ipython3",
   "version": "3.7.4"
  }
 },
 "nbformat": 4,
 "nbformat_minor": 2
}
